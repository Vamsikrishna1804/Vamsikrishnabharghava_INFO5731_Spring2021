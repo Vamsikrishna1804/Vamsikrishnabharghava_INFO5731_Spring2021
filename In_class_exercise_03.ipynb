{
  "nbformat": 4,
  "nbformat_minor": 0,
  "metadata": {
    "kernelspec": {
      "display_name": "Python 3",
      "language": "python",
      "name": "python3"
    },
    "language_info": {
      "codemirror_mode": {
        "name": "ipython",
        "version": 3
      },
      "file_extension": ".py",
      "mimetype": "text/x-python",
      "name": "python",
      "nbconvert_exporter": "python",
      "pygments_lexer": "ipython3",
      "version": "3.7.4"
    },
    "colab": {
      "name": "In-class-exercise-03.ipynb",
      "provenance": [],
      "collapsed_sections": [],
      "toc_visible": true,
      "include_colab_link": true
    }
  },
  "cells": [
    {
      "cell_type": "markdown",
      "metadata": {
        "id": "view-in-github",
        "colab_type": "text"
      },
      "source": [
        "<a href=\"https://colab.research.google.com/github/Vamsikrishna1804/Vamsikrishnabharghava_INFO5731_Spring2021/blob/main/In_class_exercise_03.ipynb\" target=\"_parent\"><img src=\"https://colab.research.google.com/assets/colab-badge.svg\" alt=\"Open In Colab\"/></a>"
      ]
    },
    {
      "cell_type": "markdown",
      "metadata": {
        "id": "ICyaNBPe5NOG"
      },
      "source": [
        "## The third In-class-exercise (9/16/2020, 20 points in total)"
      ]
    },
    {
      "cell_type": "markdown",
      "metadata": {
        "id": "UiLgrLAN5NOI"
      },
      "source": [
        "The purpose of this exercise is to under users' information needs, then collect the data for analysis."
      ]
    },
    {
      "cell_type": "markdown",
      "metadata": {
        "id": "bvO0AjVu5NOJ"
      },
      "source": [
        "Question 1 (8 points): Describe an interesting research question (or practical question) you have in mind, what kind of data should be collected to answer the question(s)? How many data needed for the analysis? The detail steps for collecting and save the data. "
      ]
    },
    {
      "cell_type": "code",
      "metadata": {
        "colab": {
          "base_uri": "https://localhost:8080/",
          "height": 71
        },
        "id": "1rAN2XVb5NOK",
        "outputId": "f5e34bcd-ae76-47f0-c45d-517c96bcedeb"
      },
      "source": [
        "# Your answer here (no code for this question, write down your answer as detail as possible for the above questions):\n",
        "\n",
        "'''\n",
        "Please write you answer here:\n",
        "\n",
        "My Research Question is to find out the List of all members of Indian parliament for all the 539 constituencies. \n",
        "Data collection has been done as per their constituency name, party name and member name. To get the data of all 539 elected representatives,\n",
        "i have used the website of Indian Parliament(loksabha) to fetch the data.\n",
        "\n",
        "Steps for collecting and saving the data:\n",
        "\n",
        "I have used Beautiful Soup package to collect the data from the website. I have collected the data of each member name, party name\n",
        "and constituency. I have fetched the data from the website by calling the table id value(where data of all members got stored\n",
        "from html content) and then using pandas library, i have converted this fetched data to .csv file.\n",
        "\n",
        "\n",
        "\n",
        "'''"
      ],
      "execution_count": null,
      "outputs": [
        {
          "output_type": "execute_result",
          "data": {
            "application/vnd.google.colaboratory.intrinsic+json": {
              "type": "string"
            },
            "text/plain": [
              "'\\nPlease write you answer here:\\n\\nMy Research Question is to find out the List of all members of Indian parliament for all the 539 constituencies. \\nData collection has been done as per their constituency name, party name and member name. To get the data of all 539 elected representatives, i have used the website of Indian \\nParliament(loksabha) to fetch the data.\\n\\nSteps for collecting and saving the data:\\n\\n\\n\\n\\n'"
            ]
          },
          "metadata": {
            "tags": []
          },
          "execution_count": 2
        }
      ]
    },
    {
      "cell_type": "markdown",
      "metadata": {
        "id": "LPaTUIWJ5NOK"
      },
      "source": [
        "Question 2 (12 points): Write python code to collect 500 items of the data you plan to collect above."
      ]
    },
    {
      "cell_type": "code",
      "metadata": {
        "colab": {
          "base_uri": "https://localhost:8080/",
          "height": 406
        },
        "id": "Cg1uvTbh5NOL",
        "outputId": "58078b45-123a-4c79-fe43-c15bf1ddaf2a"
      },
      "source": [
        "# You code here (Please add comments in the code):\n",
        "import requests\n",
        "from bs4 import BeautifulSoup #imported BeautifulSoap, Requests and pandas packages\n",
        "import pandas as pd\n",
        "\n",
        "url = \"http://164.100.47.194/Loksabha/Members/AlphabeticalList.aspx\" #Fetched the data from this url\n",
        "req = requests.get(url)\n",
        "soup = BeautifulSoup(req.text, 'html.parser') #using BeautifulSoup package parsed the data from html\n",
        "\n",
        "table = str(soup.find('table', {'class': 'member_list_table'}))#searching for table with html class. Found this through inspecting web browser output\n",
        "\n",
        "df_tables = pd.read_html(table)[0] #dumping data into dataframe using pandas.\n",
        "\n",
        "df_tables.to_csv(\"members.csv\", index=False) #converting dataframe to .csv file with 539 members data\n",
        "df_500\n",
        "df_500=df_tables.head(500)\n",
        "df_500.to_csv(\"500members.csv\", index=False) #converting dataframe to .csv file with 500 members data\n",
        "df_500"
      ],
      "execution_count": 9,
      "outputs": [
        {
          "output_type": "execute_result",
          "data": {
            "text/html": [
              "<div>\n",
              "<style scoped>\n",
              "    .dataframe tbody tr th:only-of-type {\n",
              "        vertical-align: middle;\n",
              "    }\n",
              "\n",
              "    .dataframe tbody tr th {\n",
              "        vertical-align: top;\n",
              "    }\n",
              "\n",
              "    .dataframe thead th {\n",
              "        text-align: right;\n",
              "    }\n",
              "</style>\n",
              "<table border=\"1\" class=\"dataframe\">\n",
              "  <thead>\n",
              "    <tr style=\"text-align: right;\">\n",
              "      <th></th>\n",
              "      <th>Sl. No</th>\n",
              "      <th>Name Of Member</th>\n",
              "      <th>Party Name</th>\n",
              "      <th>Constituency (State)</th>\n",
              "    </tr>\n",
              "  </thead>\n",
              "  <tbody>\n",
              "    <tr>\n",
              "      <th>0</th>\n",
              "      <td>1</td>\n",
              "      <td>A. Raja, Shri</td>\n",
              "      <td>Dravida Munnetra Kazhagam</td>\n",
              "      <td>Nilgiris (SC)(Tamil Nadu)</td>\n",
              "    </tr>\n",
              "    <tr>\n",
              "      <th>1</th>\n",
              "      <td>2</td>\n",
              "      <td>Abbaiah, Shri Narayana Swamy</td>\n",
              "      <td>Bharatiya Janata Party</td>\n",
              "      <td>Chitradurga (SC)(Karnataka)</td>\n",
              "    </tr>\n",
              "    <tr>\n",
              "      <th>2</th>\n",
              "      <td>3</td>\n",
              "      <td>Abdullah, Dr. Farooq</td>\n",
              "      <td>Jammu and Kashmir National Conference</td>\n",
              "      <td>Srinagar (Jammu and Kashmir)</td>\n",
              "    </tr>\n",
              "    <tr>\n",
              "      <th>3</th>\n",
              "      <td>4</td>\n",
              "      <td>Adhikari, Shri Deepak (Dev)</td>\n",
              "      <td>All India Trinamool Congress</td>\n",
              "      <td>Ghatal (West Bengal)</td>\n",
              "    </tr>\n",
              "    <tr>\n",
              "      <th>4</th>\n",
              "      <td>5</td>\n",
              "      <td>Adhikari, Shri Dibyendu</td>\n",
              "      <td>All India Trinamool Congress</td>\n",
              "      <td>Tamluk (West Bengal)</td>\n",
              "    </tr>\n",
              "    <tr>\n",
              "      <th>...</th>\n",
              "      <td>...</td>\n",
              "      <td>...</td>\n",
              "      <td>...</td>\n",
              "      <td>...</td>\n",
              "    </tr>\n",
              "    <tr>\n",
              "      <th>495</th>\n",
              "      <td>496</td>\n",
              "      <td>Tamta, Shri Ajay</td>\n",
              "      <td>Bharatiya Janata Party</td>\n",
              "      <td>Almora (SC)(Uttarakhand)</td>\n",
              "    </tr>\n",
              "    <tr>\n",
              "      <th>496</th>\n",
              "      <td>497</td>\n",
              "      <td>Tatkare, Shri Sunil Dattatray</td>\n",
              "      <td>Nationalist Congress Party</td>\n",
              "      <td>Raigad (Maharashtra)</td>\n",
              "    </tr>\n",
              "    <tr>\n",
              "      <th>497</th>\n",
              "      <td>498</td>\n",
              "      <td>Teli, Shri Rameswar</td>\n",
              "      <td>Bharatiya Janata Party</td>\n",
              "      <td>Dibrugarh (Assam)</td>\n",
              "    </tr>\n",
              "    <tr>\n",
              "      <th>498</th>\n",
              "      <td>499</td>\n",
              "      <td>Tewari, Shri Manish</td>\n",
              "      <td>Indian National Congress</td>\n",
              "      <td>Anandpur Sahib (Punjab)</td>\n",
              "    </tr>\n",
              "    <tr>\n",
              "      <th>499</th>\n",
              "      <td>500</td>\n",
              "      <td>Thakur, Shri Anurag Singh</td>\n",
              "      <td>Bharatiya Janata Party</td>\n",
              "      <td>Hamirpur (Himachal Pradesh)</td>\n",
              "    </tr>\n",
              "  </tbody>\n",
              "</table>\n",
              "<p>500 rows × 4 columns</p>\n",
              "</div>"
            ],
            "text/plain": [
              "     Sl. No  ...          Constituency (State)\n",
              "0         1  ...     Nilgiris (SC)(Tamil Nadu)\n",
              "1         2  ...   Chitradurga (SC)(Karnataka)\n",
              "2         3  ...  Srinagar (Jammu and Kashmir)\n",
              "3         4  ...          Ghatal (West Bengal)\n",
              "4         5  ...          Tamluk (West Bengal)\n",
              "..      ...  ...                           ...\n",
              "495     496  ...      Almora (SC)(Uttarakhand)\n",
              "496     497  ...          Raigad (Maharashtra)\n",
              "497     498  ...             Dibrugarh (Assam)\n",
              "498     499  ...       Anandpur Sahib (Punjab)\n",
              "499     500  ...   Hamirpur (Himachal Pradesh)\n",
              "\n",
              "[500 rows x 4 columns]"
            ]
          },
          "metadata": {
            "tags": []
          },
          "execution_count": 9
        }
      ]
    },
    {
      "cell_type": "code",
      "metadata": {
        "id": "wqs6ApViGLOb"
      },
      "source": [
        ""
      ],
      "execution_count": 8,
      "outputs": []
    },
    {
      "cell_type": "code",
      "metadata": {
        "id": "RP1ThE-VOBqR"
      },
      "source": [
        ""
      ],
      "execution_count": null,
      "outputs": []
    }
  ]
}