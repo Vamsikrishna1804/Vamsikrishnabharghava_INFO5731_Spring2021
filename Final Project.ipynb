{
  "nbformat": 4,
  "nbformat_minor": 0,
  "metadata": {
    "colab": {
      "name": "Untitled32.ipynb",
      "provenance": [],
      "collapsed_sections": [],
      "authorship_tag": "ABX9TyOkw54yu6z5YdKHh+hVvmIQ",
      "include_colab_link": true
    },
    "kernelspec": {
      "name": "python3",
      "display_name": "Python 3"
    },
    "language_info": {
      "name": "python"
    }
  },
  "cells": [
    {
      "cell_type": "markdown",
      "metadata": {
        "id": "view-in-github",
        "colab_type": "text"
      },
      "source": [
        "<a href=\"https://colab.research.google.com/github/Vamsikrishna1804/Vamsikrishnabharghava_INFO5731_Spring2021/blob/main/Final%20Project.ipynb\" target=\"_parent\"><img src=\"https://colab.research.google.com/assets/colab-badge.svg\" alt=\"Open In Colab\"/></a>"
      ]
    },
    {
      "cell_type": "code",
      "metadata": {
        "id": "S4IPZ3JTxc8-"
      },
      "source": [
        "from sklearn.metrics import f1_score\n",
        "from sklearn.metrics import accuracy_score, precision_score, recall_score, roc_auc_score\n",
        "import matplotlib.pyplot as plt\n",
        "import seaborn as sns\n",
        "from xgboost import XGBRFClassifier\n",
        "from sklearn.ensemble import RandomForestClassifier\n",
        "from sklearn.tree import DecisionTreeClassifier\n",
        "from sklearn.naive_bayes import GaussianNB\n",
        "from sklearn.svm import SVC\n",
        "from sklearn.model_selection import train_test_split\n",
        "from sklearn.feature_extraction.text import TfidfVectorizer\n",
        "from numpy import vectorize\n",
        "import pandas as pd\n",
        "import spacy\n",
        "import re"
      ],
      "execution_count": 8,
      "outputs": []
    },
    {
      "cell_type": "code",
      "metadata": {
        "id": "hwMtSOk_xgWD"
      },
      "source": [
        "trump = pd.read_csv('dtrump_cleaneddata.csv')\n",
        "biden = pd.read_csv('joe_cleaneddata.csv')"
      ],
      "execution_count": 4,
      "outputs": []
    },
    {
      "cell_type": "code",
      "metadata": {
        "colab": {
          "base_uri": "https://localhost:8080/"
        },
        "id": "yohxV4p4xkDI",
        "outputId": "1b4c7b34-824c-4b4d-983e-869429e2194f"
      },
      "source": [
        "print(len(trump))\n",
        "print(len(biden))"
      ],
      "execution_count": 5,
      "outputs": [
        {
          "output_type": "stream",
          "text": [
            "1193\n",
            "972\n"
          ],
          "name": "stdout"
        }
      ]
    },
    {
      "cell_type": "code",
      "metadata": {
        "colab": {
          "base_uri": "https://localhost:8080/"
        },
        "id": "pQjkXxGmxm_j",
        "outputId": "fec7f217-5596-48a2-a831-f271821f2b4b"
      },
      "source": [
        "print(trump.head(5))\n",
        "print(biden.head(5))"
      ],
      "execution_count": 6,
      "outputs": [
        {
          "output_type": "stream",
          "text": [
            "   Unnamed: 0       created_at  ...                   country collected_at\n",
            "0           2  10/15/2020 0:00  ...  United States of America      00:00.7\n",
            "1           3  10/15/2020 0:00  ...                       NaN      00:01.1\n",
            "2           4  10/15/2020 0:00  ...  United States of America      00:01.5\n",
            "3           5  10/15/2020 0:00  ...  United States of America      00:01.9\n",
            "4           7  10/15/2020 0:00  ...  United States of America      00:02.6\n",
            "\n",
            "[5 rows x 6 columns]\n",
            "   Unnamed: 0       created_at  ...                   country collected_at\n",
            "0           1  10/15/2020 0:00  ...                       NaN      00:00.5\n",
            "1           2  10/15/2020 0:00  ...  United States of America      00:01.0\n",
            "2           3  10/15/2020 0:00  ...                       NaN      00:01.6\n",
            "3           4  10/15/2020 0:00  ...  United States of America      00:02.1\n",
            "4           5  10/15/2020 0:00  ...                       NaN      00:02.6\n",
            "\n",
            "[5 rows x 6 columns]\n"
          ],
          "name": "stdout"
        }
      ]
    },
    {
      "cell_type": "code",
      "metadata": {
        "id": "v8p2sGbBxqUV"
      },
      "source": [
        "import spacy.cli\n",
        " #spacy.cli.download(\"en_core_web_lg\")\n",
        "nlp = spacy.load('en_core_web_lg')"
      ],
      "execution_count": 22,
      "outputs": []
    },
    {
      "cell_type": "code",
      "metadata": {
        "id": "TqDY6U_zxstb"
      },
      "source": [
        "stopwords = nlp.Defaults.stop_words"
      ],
      "execution_count": 23,
      "outputs": []
    },
    {
      "cell_type": "code",
      "metadata": {
        "id": "l6qgawL5xwah"
      },
      "source": [
        "trump_cleaned_text = []\n",
        "biden_cleaned_text = []\n",
        "trump_lemma_text = []\n",
        "biden_lemma_text = []\n",
        "for item in trump['tweet']:\n",
        "    item = re.sub(r'[^a-zA-Z0-9 -]', '', item)\n",
        "    doc = nlp(item)\n",
        "    text = [x.text for x in doc if x.text not in stopwords]\n",
        "    lemmaText = [x.lemma_ for x in doc if x.text not in stopwords]\n",
        "    trump_cleaned_text.append(' '.join(text))\n",
        "    trump_lemma_text.append(\" \".join(lemmaText))\n",
        "for item in biden['tweet']:\n",
        "    item = re.sub(r'[^a-zA-Z0-9 -]', '', item)\n",
        "    doc = nlp(item)\n",
        "    text = [x.text for x in doc if x.text not in stopwords]\n",
        "    lemmaText = [x.lemma_ for x in doc if x.text not in stopwords]\n",
        "    biden_cleaned_text.append(' '.join(text))\n",
        "    biden_lemma_text.append(\" \".join(lemmaText))"
      ],
      "execution_count": 24,
      "outputs": []
    },
    {
      "cell_type": "code",
      "metadata": {
        "colab": {
          "base_uri": "https://localhost:8080/"
        },
        "id": "P1Vb45mFxy6q",
        "outputId": "d2cd35fa-70cc-4976-9843-9d3e58d426ef"
      },
      "source": [
        "print(trump_cleaned_text[0])\n",
        "print(biden_cleaned_text[0])"
      ],
      "execution_count": 25,
      "outputs": [
        {
          "output_type": "stream",
          "text": [
            "Trump As student I hear years years I heard China In 2019 And 15 nt know I asked said sir nt know But millions Like 300 millionUm What\n",
            "HunterBiden HunterBidenEmails JoeBiden JoeBidenMustStepDown httpstco9enmxWvePm\n"
          ],
          "name": "stdout"
        }
      ]
    },
    {
      "cell_type": "code",
      "metadata": {
        "colab": {
          "base_uri": "https://localhost:8080/"
        },
        "id": "8izJbNd9x1E_",
        "outputId": "5b332021-ea83-47df-d328-54b76f9105f2"
      },
      "source": [
        "print(trump_lemma_text[0])\n",
        "print(biden_lemma_text[0])"
      ],
      "execution_count": 26,
      "outputs": [
        {
          "output_type": "stream",
          "text": [
            "Trump as student -PRON- hear year year -PRON- hear China in 2019 and 15 not know -PRON- ask say sir not know but million like 300 millionum what\n",
            "HunterBiden hunterbidenemails JoeBiden joebidenmuststepdown httpstco9enmxwvepm\n"
          ],
          "name": "stdout"
        }
      ]
    },
    {
      "cell_type": "code",
      "metadata": {
        "id": "c734LX7Cx6WF"
      },
      "source": [
        "trump['cleanedText'] = trump_cleaned_text\n",
        "trump['lemmatizedText'] = trump_lemma_text\n",
        "biden['cleanedText'] = biden_cleaned_text\n",
        "biden['lemmatizedText'] = biden_lemma_text"
      ],
      "execution_count": 28,
      "outputs": []
    },
    {
      "cell_type": "code",
      "metadata": {
        "id": "75IxcZSOx89b"
      },
      "source": [
        "corpus = trump_lemma_text\n",
        "corpus.extend(biden_lemma_text)"
      ],
      "execution_count": 29,
      "outputs": []
    },
    {
      "cell_type": "code",
      "metadata": {
        "colab": {
          "base_uri": "https://localhost:8080/",
          "height": 391
        },
        "id": "GV7BVMhA6-Gb",
        "outputId": "0ab6d9b8-8ae7-4b91-ffd9-4ae28a4befbe"
      },
      "source": [
        "trump_df=pd.read_csv('dtrump_cleaneddata.csv')\n",
        "trump_df\n"
      ],
      "execution_count": 66,
      "outputs": [
        {
          "output_type": "execute_result",
          "data": {
            "text/html": [
              "<div>\n",
              "<style scoped>\n",
              "    .dataframe tbody tr th:only-of-type {\n",
              "        vertical-align: middle;\n",
              "    }\n",
              "\n",
              "    .dataframe tbody tr th {\n",
              "        vertical-align: top;\n",
              "    }\n",
              "\n",
              "    .dataframe thead th {\n",
              "        text-align: right;\n",
              "    }\n",
              "</style>\n",
              "<table border=\"1\" class=\"dataframe\">\n",
              "  <thead>\n",
              "    <tr style=\"text-align: right;\">\n",
              "      <th></th>\n",
              "      <th>Unnamed: 0</th>\n",
              "      <th>created_at</th>\n",
              "      <th>tweet</th>\n",
              "      <th>user_name</th>\n",
              "      <th>country</th>\n",
              "      <th>collected_at</th>\n",
              "    </tr>\n",
              "  </thead>\n",
              "  <tbody>\n",
              "    <tr>\n",
              "      <th>0</th>\n",
              "      <td>2</td>\n",
              "      <td>10/15/2020 0:00</td>\n",
              "      <td>#Trump: As a student I used to hear for years,...</td>\n",
              "      <td>snarke</td>\n",
              "      <td>United States of America</td>\n",
              "      <td>00:00.7</td>\n",
              "    </tr>\n",
              "    <tr>\n",
              "      <th>1</th>\n",
              "      <td>3</td>\n",
              "      <td>10/15/2020 0:00</td>\n",
              "      <td>2 hours since last tweet from #Trump! Maybe he...</td>\n",
              "      <td>Trumpytweeter</td>\n",
              "      <td>NaN</td>\n",
              "      <td>00:01.1</td>\n",
              "    </tr>\n",
              "    <tr>\n",
              "      <th>2</th>\n",
              "      <td>4</td>\n",
              "      <td>10/15/2020 0:00</td>\n",
              "      <td>You get a tie! And you get a tie! #Trump ‘s ra...</td>\n",
              "      <td>Rana Abtar - رنا أبتر</td>\n",
              "      <td>United States of America</td>\n",
              "      <td>00:01.5</td>\n",
              "    </tr>\n",
              "    <tr>\n",
              "      <th>3</th>\n",
              "      <td>5</td>\n",
              "      <td>10/15/2020 0:00</td>\n",
              "      <td>@CLady62 Her 15 minutes were over long time ag...</td>\n",
              "      <td>Farris Flagg</td>\n",
              "      <td>United States of America</td>\n",
              "      <td>00:01.9</td>\n",
              "    </tr>\n",
              "    <tr>\n",
              "      <th>4</th>\n",
              "      <td>7</td>\n",
              "      <td>10/15/2020 0:00</td>\n",
              "      <td>@DeeviousDenise @realDonaldTrump @nypost There...</td>\n",
              "      <td>Stacey Gulledge 🇺🇸 Patriot ♥️ KAG 🙏 👮‍♀️♥️</td>\n",
              "      <td>United States of America</td>\n",
              "      <td>00:02.6</td>\n",
              "    </tr>\n",
              "    <tr>\n",
              "      <th>...</th>\n",
              "      <td>...</td>\n",
              "      <td>...</td>\n",
              "      <td>...</td>\n",
              "      <td>...</td>\n",
              "      <td>...</td>\n",
              "      <td>...</td>\n",
              "    </tr>\n",
              "    <tr>\n",
              "      <th>1188</th>\n",
              "      <td>1394</td>\n",
              "      <td>10/15/2020 1:29</td>\n",
              "      <td>Politics has become 100% corruption because go...</td>\n",
              "      <td>bitcoin</td>\n",
              "      <td>NaN</td>\n",
              "      <td>08:48.8</td>\n",
              "    </tr>\n",
              "    <tr>\n",
              "      <th>1189</th>\n",
              "      <td>1395</td>\n",
              "      <td>10/15/2020 1:29</td>\n",
              "      <td>#Trump #BidenTownHall #BidenHarris #Biden #Bur...</td>\n",
              "      <td>Cheryl</td>\n",
              "      <td>NaN</td>\n",
              "      <td>08:48.5</td>\n",
              "    </tr>\n",
              "    <tr>\n",
              "      <th>1190</th>\n",
              "      <td>1396</td>\n",
              "      <td>10/15/2020 1:29</td>\n",
              "      <td>@BrunoStagno And lets not forget... #MBS silen...</td>\n",
              "      <td>GryphonsPerch</td>\n",
              "      <td>NaN</td>\n",
              "      <td>08:49.2</td>\n",
              "    </tr>\n",
              "    <tr>\n",
              "      <th>1191</th>\n",
              "      <td>1398</td>\n",
              "      <td>10/15/2020 1:30</td>\n",
              "      <td>“U.S. President Donald #Trump noted that the W...</td>\n",
              "      <td>PanAm Post</td>\n",
              "      <td>United States of America</td>\n",
              "      <td>08:49.6</td>\n",
              "    </tr>\n",
              "    <tr>\n",
              "      <th>1192</th>\n",
              "      <td>1399</td>\n",
              "      <td>10/15/2020 1:30</td>\n",
              "      <td>If you're not convinced yet #Iowa for the #Iow...</td>\n",
              "      <td>TrickOrTweeter (OFFICIAL) 🍈🍆🍈</td>\n",
              "      <td>NaN</td>\n",
              "      <td>08:50.3</td>\n",
              "    </tr>\n",
              "  </tbody>\n",
              "</table>\n",
              "<p>1193 rows × 6 columns</p>\n",
              "</div>"
            ],
            "text/plain": [
              "      Unnamed: 0       created_at  ...                   country collected_at\n",
              "0              2  10/15/2020 0:00  ...  United States of America      00:00.7\n",
              "1              3  10/15/2020 0:00  ...                       NaN      00:01.1\n",
              "2              4  10/15/2020 0:00  ...  United States of America      00:01.5\n",
              "3              5  10/15/2020 0:00  ...  United States of America      00:01.9\n",
              "4              7  10/15/2020 0:00  ...  United States of America      00:02.6\n",
              "...          ...              ...  ...                       ...          ...\n",
              "1188        1394  10/15/2020 1:29  ...                       NaN      08:48.8\n",
              "1189        1395  10/15/2020 1:29  ...                       NaN      08:48.5\n",
              "1190        1396  10/15/2020 1:29  ...                       NaN      08:49.2\n",
              "1191        1398  10/15/2020 1:30  ...  United States of America      08:49.6\n",
              "1192        1399  10/15/2020 1:30  ...                       NaN      08:50.3\n",
              "\n",
              "[1193 rows x 6 columns]"
            ]
          },
          "metadata": {
            "tags": []
          },
          "execution_count": 66
        }
      ]
    },
    {
      "cell_type": "code",
      "metadata": {
        "colab": {
          "base_uri": "https://localhost:8080/",
          "height": 391
        },
        "id": "IP7Y6sZU7qBb",
        "outputId": "cd447a0f-1c65-43fa-b65f-010972b6727b"
      },
      "source": [
        "biden_df=pd.read_csv('joe_cleaneddata.csv')\n",
        "biden_df\n"
      ],
      "execution_count": 67,
      "outputs": [
        {
          "output_type": "execute_result",
          "data": {
            "text/html": [
              "<div>\n",
              "<style scoped>\n",
              "    .dataframe tbody tr th:only-of-type {\n",
              "        vertical-align: middle;\n",
              "    }\n",
              "\n",
              "    .dataframe tbody tr th {\n",
              "        vertical-align: top;\n",
              "    }\n",
              "\n",
              "    .dataframe thead th {\n",
              "        text-align: right;\n",
              "    }\n",
              "</style>\n",
              "<table border=\"1\" class=\"dataframe\">\n",
              "  <thead>\n",
              "    <tr style=\"text-align: right;\">\n",
              "      <th></th>\n",
              "      <th>Unnamed: 0</th>\n",
              "      <th>created_at</th>\n",
              "      <th>tweet</th>\n",
              "      <th>user_name</th>\n",
              "      <th>country</th>\n",
              "      <th>collected_at</th>\n",
              "    </tr>\n",
              "  </thead>\n",
              "  <tbody>\n",
              "    <tr>\n",
              "      <th>0</th>\n",
              "      <td>1</td>\n",
              "      <td>10/15/2020 0:00</td>\n",
              "      <td>#HunterBiden #HunterBidenEmails #JoeBiden #Joe...</td>\n",
              "      <td>Cheri A. 🇺🇸</td>\n",
              "      <td>NaN</td>\n",
              "      <td>00:00.5</td>\n",
              "    </tr>\n",
              "    <tr>\n",
              "      <th>1</th>\n",
              "      <td>2</td>\n",
              "      <td>10/15/2020 0:00</td>\n",
              "      <td>@IslandGirlPRV @BradBeauregardJ @MeidasTouch T...</td>\n",
              "      <td>Flag Waver</td>\n",
              "      <td>United States of America</td>\n",
              "      <td>00:01.0</td>\n",
              "    </tr>\n",
              "    <tr>\n",
              "      <th>2</th>\n",
              "      <td>3</td>\n",
              "      <td>10/15/2020 0:00</td>\n",
              "      <td>@chrislongview Watching and setting dvr. Let’s...</td>\n",
              "      <td>Michelle Ferg</td>\n",
              "      <td>NaN</td>\n",
              "      <td>00:01.6</td>\n",
              "    </tr>\n",
              "    <tr>\n",
              "      <th>3</th>\n",
              "      <td>4</td>\n",
              "      <td>10/15/2020 0:00</td>\n",
              "      <td>#censorship #HunterBiden #Biden #BidenEmails #...</td>\n",
              "      <td>the Gold State</td>\n",
              "      <td>United States of America</td>\n",
              "      <td>00:02.1</td>\n",
              "    </tr>\n",
              "    <tr>\n",
              "      <th>4</th>\n",
              "      <td>5</td>\n",
              "      <td>10/15/2020 0:00</td>\n",
              "      <td>\"IS THIS WRONG??!!\" Cory Booker's BRILLIANT Fi...</td>\n",
              "      <td>Dose of Dissonance</td>\n",
              "      <td>NaN</td>\n",
              "      <td>00:02.6</td>\n",
              "    </tr>\n",
              "    <tr>\n",
              "      <th>...</th>\n",
              "      <td>...</td>\n",
              "      <td>...</td>\n",
              "      <td>...</td>\n",
              "      <td>...</td>\n",
              "      <td>...</td>\n",
              "      <td>...</td>\n",
              "    </tr>\n",
              "    <tr>\n",
              "      <th>967</th>\n",
              "      <td>1095</td>\n",
              "      <td>10/15/2020 1:11</td>\n",
              "      <td>@eliascaress \"We are from Scranton, PA we will...</td>\n",
              "      <td>Parker</td>\n",
              "      <td>NaN</td>\n",
              "      <td>09:40.5</td>\n",
              "    </tr>\n",
              "    <tr>\n",
              "      <th>968</th>\n",
              "      <td>1096</td>\n",
              "      <td>10/15/2020 1:11</td>\n",
              "      <td>https://t.co/KkFtJxrMMb inside Joe Biden’s $4....</td>\n",
              "      <td>robert boyer</td>\n",
              "      <td>NaN</td>\n",
              "      <td>09:41.5</td>\n",
              "    </tr>\n",
              "    <tr>\n",
              "      <th>969</th>\n",
              "      <td>1097</td>\n",
              "      <td>10/15/2020 1:11</td>\n",
              "      <td>#HunterBiden #JoeBiden #Trump2020   \\n#Electio...</td>\n",
              "      <td>Massive Dynamyx 🏴󠁧󠁢󠁥󠁮󠁧󠁿 ➐</td>\n",
              "      <td>NaN</td>\n",
              "      <td>09:41.0</td>\n",
              "    </tr>\n",
              "    <tr>\n",
              "      <th>970</th>\n",
              "      <td>1098</td>\n",
              "      <td>10/15/2020 1:11</td>\n",
              "      <td>GOT OUR MAIL-IN BALLOTS TODAY!!!\\n\\n#JoeBiden ...</td>\n",
              "      <td>g flores</td>\n",
              "      <td>NaN</td>\n",
              "      <td>09:42.0</td>\n",
              "    </tr>\n",
              "    <tr>\n",
              "      <th>971</th>\n",
              "      <td>1099</td>\n",
              "      <td>10/15/2020 1:11</td>\n",
              "      <td>#HunterBidenEmails #JoeBiden #NYPost #MAGA Ple...</td>\n",
              "      <td>Renee A Campeau 👠💋🐱</td>\n",
              "      <td>Canada</td>\n",
              "      <td>09:42.6</td>\n",
              "    </tr>\n",
              "  </tbody>\n",
              "</table>\n",
              "<p>972 rows × 6 columns</p>\n",
              "</div>"
            ],
            "text/plain": [
              "     Unnamed: 0       created_at  ...                   country collected_at\n",
              "0             1  10/15/2020 0:00  ...                       NaN      00:00.5\n",
              "1             2  10/15/2020 0:00  ...  United States of America      00:01.0\n",
              "2             3  10/15/2020 0:00  ...                       NaN      00:01.6\n",
              "3             4  10/15/2020 0:00  ...  United States of America      00:02.1\n",
              "4             5  10/15/2020 0:00  ...                       NaN      00:02.6\n",
              "..          ...              ...  ...                       ...          ...\n",
              "967        1095  10/15/2020 1:11  ...                       NaN      09:40.5\n",
              "968        1096  10/15/2020 1:11  ...                       NaN      09:41.5\n",
              "969        1097  10/15/2020 1:11  ...                       NaN      09:41.0\n",
              "970        1098  10/15/2020 1:11  ...                       NaN      09:42.0\n",
              "971        1099  10/15/2020 1:11  ...                    Canada      09:42.6\n",
              "\n",
              "[972 rows x 6 columns]"
            ]
          },
          "metadata": {
            "tags": []
          },
          "execution_count": 67
        }
      ]
    },
    {
      "cell_type": "code",
      "metadata": {
        "id": "hP__l3io7y6k"
      },
      "source": [
        "from textblob import TextBlob"
      ],
      "execution_count": 63,
      "outputs": []
    },
    {
      "cell_type": "code",
      "metadata": {
        "id": "gCthAYrZy2Iu"
      },
      "source": [
        "#calculation of polarities for each tweet\n",
        "def getsubjectivityoftext(tweet):\n",
        "  return TextBlob(tweet).sentiment.subjectivity\n",
        "\n",
        "def getpolarityoftext(tweet):\n",
        "  return TextBlob(tweet).sentiment.polarity"
      ],
      "execution_count": 64,
      "outputs": []
    },
    {
      "cell_type": "code",
      "metadata": {
        "colab": {
          "base_uri": "https://localhost:8080/",
          "height": 570
        },
        "id": "aVLeJm9q5nj4",
        "outputId": "b01f71ad-20bf-457b-a92e-fa13c415530d"
      },
      "source": [
        "trump_df['Subjectivity'] = trump_df['tweet'].apply(getsubjectivityoftext)\n",
        "trump_df['Polarity'] = trump_df['tweet'].apply(getpolarityoftext)\n",
        "trump_df"
      ],
      "execution_count": 68,
      "outputs": [
        {
          "output_type": "execute_result",
          "data": {
            "text/html": [
              "<div>\n",
              "<style scoped>\n",
              "    .dataframe tbody tr th:only-of-type {\n",
              "        vertical-align: middle;\n",
              "    }\n",
              "\n",
              "    .dataframe tbody tr th {\n",
              "        vertical-align: top;\n",
              "    }\n",
              "\n",
              "    .dataframe thead th {\n",
              "        text-align: right;\n",
              "    }\n",
              "</style>\n",
              "<table border=\"1\" class=\"dataframe\">\n",
              "  <thead>\n",
              "    <tr style=\"text-align: right;\">\n",
              "      <th></th>\n",
              "      <th>Unnamed: 0</th>\n",
              "      <th>created_at</th>\n",
              "      <th>tweet</th>\n",
              "      <th>user_name</th>\n",
              "      <th>country</th>\n",
              "      <th>collected_at</th>\n",
              "      <th>Subjectivity</th>\n",
              "      <th>Polarity</th>\n",
              "    </tr>\n",
              "  </thead>\n",
              "  <tbody>\n",
              "    <tr>\n",
              "      <th>0</th>\n",
              "      <td>2</td>\n",
              "      <td>10/15/2020 0:00</td>\n",
              "      <td>#Trump: As a student I used to hear for years,...</td>\n",
              "      <td>snarke</td>\n",
              "      <td>United States of America</td>\n",
              "      <td>00:00.7</td>\n",
              "      <td>0.333333</td>\n",
              "      <td>0.333333</td>\n",
              "    </tr>\n",
              "    <tr>\n",
              "      <th>1</th>\n",
              "      <td>3</td>\n",
              "      <td>10/15/2020 0:00</td>\n",
              "      <td>2 hours since last tweet from #Trump! Maybe he...</td>\n",
              "      <td>Trumpytweeter</td>\n",
              "      <td>NaN</td>\n",
              "      <td>00:01.1</td>\n",
              "      <td>0.252222</td>\n",
              "      <td>0.076667</td>\n",
              "    </tr>\n",
              "    <tr>\n",
              "      <th>2</th>\n",
              "      <td>4</td>\n",
              "      <td>10/15/2020 0:00</td>\n",
              "      <td>You get a tie! And you get a tie! #Trump ‘s ra...</td>\n",
              "      <td>Rana Abtar - رنا أبتر</td>\n",
              "      <td>United States of America</td>\n",
              "      <td>00:01.5</td>\n",
              "      <td>0.000000</td>\n",
              "      <td>0.000000</td>\n",
              "    </tr>\n",
              "    <tr>\n",
              "      <th>3</th>\n",
              "      <td>5</td>\n",
              "      <td>10/15/2020 0:00</td>\n",
              "      <td>@CLady62 Her 15 minutes were over long time ag...</td>\n",
              "      <td>Farris Flagg</td>\n",
              "      <td>United States of America</td>\n",
              "      <td>00:01.9</td>\n",
              "      <td>0.416667</td>\n",
              "      <td>-0.155208</td>\n",
              "    </tr>\n",
              "    <tr>\n",
              "      <th>4</th>\n",
              "      <td>7</td>\n",
              "      <td>10/15/2020 0:00</td>\n",
              "      <td>@DeeviousDenise @realDonaldTrump @nypost There...</td>\n",
              "      <td>Stacey Gulledge 🇺🇸 Patriot ♥️ KAG 🙏 👮‍♀️♥️</td>\n",
              "      <td>United States of America</td>\n",
              "      <td>00:02.6</td>\n",
              "      <td>0.523810</td>\n",
              "      <td>0.178571</td>\n",
              "    </tr>\n",
              "    <tr>\n",
              "      <th>...</th>\n",
              "      <td>...</td>\n",
              "      <td>...</td>\n",
              "      <td>...</td>\n",
              "      <td>...</td>\n",
              "      <td>...</td>\n",
              "      <td>...</td>\n",
              "      <td>...</td>\n",
              "      <td>...</td>\n",
              "    </tr>\n",
              "    <tr>\n",
              "      <th>1188</th>\n",
              "      <td>1394</td>\n",
              "      <td>10/15/2020 1:29</td>\n",
              "      <td>Politics has become 100% corruption because go...</td>\n",
              "      <td>bitcoin</td>\n",
              "      <td>NaN</td>\n",
              "      <td>08:48.8</td>\n",
              "      <td>0.100000</td>\n",
              "      <td>0.000000</td>\n",
              "    </tr>\n",
              "    <tr>\n",
              "      <th>1189</th>\n",
              "      <td>1395</td>\n",
              "      <td>10/15/2020 1:29</td>\n",
              "      <td>#Trump #BidenTownHall #BidenHarris #Biden #Bur...</td>\n",
              "      <td>Cheryl</td>\n",
              "      <td>NaN</td>\n",
              "      <td>08:48.5</td>\n",
              "      <td>0.000000</td>\n",
              "      <td>0.000000</td>\n",
              "    </tr>\n",
              "    <tr>\n",
              "      <th>1190</th>\n",
              "      <td>1396</td>\n",
              "      <td>10/15/2020 1:29</td>\n",
              "      <td>@BrunoStagno And lets not forget... #MBS silen...</td>\n",
              "      <td>GryphonsPerch</td>\n",
              "      <td>NaN</td>\n",
              "      <td>08:49.2</td>\n",
              "      <td>1.000000</td>\n",
              "      <td>-0.875000</td>\n",
              "    </tr>\n",
              "    <tr>\n",
              "      <th>1191</th>\n",
              "      <td>1398</td>\n",
              "      <td>10/15/2020 1:30</td>\n",
              "      <td>“U.S. President Donald #Trump noted that the W...</td>\n",
              "      <td>PanAm Post</td>\n",
              "      <td>United States of America</td>\n",
              "      <td>08:49.6</td>\n",
              "      <td>0.500000</td>\n",
              "      <td>0.000000</td>\n",
              "    </tr>\n",
              "    <tr>\n",
              "      <th>1192</th>\n",
              "      <td>1399</td>\n",
              "      <td>10/15/2020 1:30</td>\n",
              "      <td>If you're not convinced yet #Iowa for the #Iow...</td>\n",
              "      <td>TrickOrTweeter (OFFICIAL) 🍈🍆🍈</td>\n",
              "      <td>NaN</td>\n",
              "      <td>08:50.3</td>\n",
              "      <td>0.000000</td>\n",
              "      <td>0.000000</td>\n",
              "    </tr>\n",
              "  </tbody>\n",
              "</table>\n",
              "<p>1193 rows × 8 columns</p>\n",
              "</div>"
            ],
            "text/plain": [
              "      Unnamed: 0       created_at  ... Subjectivity  Polarity\n",
              "0              2  10/15/2020 0:00  ...     0.333333  0.333333\n",
              "1              3  10/15/2020 0:00  ...     0.252222  0.076667\n",
              "2              4  10/15/2020 0:00  ...     0.000000  0.000000\n",
              "3              5  10/15/2020 0:00  ...     0.416667 -0.155208\n",
              "4              7  10/15/2020 0:00  ...     0.523810  0.178571\n",
              "...          ...              ...  ...          ...       ...\n",
              "1188        1394  10/15/2020 1:29  ...     0.100000  0.000000\n",
              "1189        1395  10/15/2020 1:29  ...     0.000000  0.000000\n",
              "1190        1396  10/15/2020 1:29  ...     1.000000 -0.875000\n",
              "1191        1398  10/15/2020 1:30  ...     0.500000  0.000000\n",
              "1192        1399  10/15/2020 1:30  ...     0.000000  0.000000\n",
              "\n",
              "[1193 rows x 8 columns]"
            ]
          },
          "metadata": {
            "tags": []
          },
          "execution_count": 68
        }
      ]
    },
    {
      "cell_type": "code",
      "metadata": {
        "colab": {
          "base_uri": "https://localhost:8080/",
          "height": 391
        },
        "id": "sy0dsceay9cy",
        "outputId": "b32d819f-4081-4817-9df8-236fa3ee4ba4"
      },
      "source": [
        "biden_df['Subjectivity'] = biden_df['tweet'].apply(getsubjectivityoftext)\n",
        "biden_df['Polarity'] = biden_df['tweet'].apply(getpolarityoftext)\n",
        "biden_df"
      ],
      "execution_count": 69,
      "outputs": [
        {
          "output_type": "execute_result",
          "data": {
            "text/html": [
              "<div>\n",
              "<style scoped>\n",
              "    .dataframe tbody tr th:only-of-type {\n",
              "        vertical-align: middle;\n",
              "    }\n",
              "\n",
              "    .dataframe tbody tr th {\n",
              "        vertical-align: top;\n",
              "    }\n",
              "\n",
              "    .dataframe thead th {\n",
              "        text-align: right;\n",
              "    }\n",
              "</style>\n",
              "<table border=\"1\" class=\"dataframe\">\n",
              "  <thead>\n",
              "    <tr style=\"text-align: right;\">\n",
              "      <th></th>\n",
              "      <th>Unnamed: 0</th>\n",
              "      <th>created_at</th>\n",
              "      <th>tweet</th>\n",
              "      <th>user_name</th>\n",
              "      <th>country</th>\n",
              "      <th>collected_at</th>\n",
              "      <th>Subjectivity</th>\n",
              "      <th>Polarity</th>\n",
              "    </tr>\n",
              "  </thead>\n",
              "  <tbody>\n",
              "    <tr>\n",
              "      <th>0</th>\n",
              "      <td>1</td>\n",
              "      <td>10/15/2020 0:00</td>\n",
              "      <td>#HunterBiden #HunterBidenEmails #JoeBiden #Joe...</td>\n",
              "      <td>Cheri A. 🇺🇸</td>\n",
              "      <td>NaN</td>\n",
              "      <td>00:00.5</td>\n",
              "      <td>0.000000</td>\n",
              "      <td>0.000000</td>\n",
              "    </tr>\n",
              "    <tr>\n",
              "      <th>1</th>\n",
              "      <td>2</td>\n",
              "      <td>10/15/2020 0:00</td>\n",
              "      <td>@IslandGirlPRV @BradBeauregardJ @MeidasTouch T...</td>\n",
              "      <td>Flag Waver</td>\n",
              "      <td>United States of America</td>\n",
              "      <td>00:01.0</td>\n",
              "      <td>0.000000</td>\n",
              "      <td>0.000000</td>\n",
              "    </tr>\n",
              "    <tr>\n",
              "      <th>2</th>\n",
              "      <td>3</td>\n",
              "      <td>10/15/2020 0:00</td>\n",
              "      <td>@chrislongview Watching and setting dvr. Let’s...</td>\n",
              "      <td>Michelle Ferg</td>\n",
              "      <td>NaN</td>\n",
              "      <td>00:01.6</td>\n",
              "      <td>0.000000</td>\n",
              "      <td>0.000000</td>\n",
              "    </tr>\n",
              "    <tr>\n",
              "      <th>3</th>\n",
              "      <td>4</td>\n",
              "      <td>10/15/2020 0:00</td>\n",
              "      <td>#censorship #HunterBiden #Biden #BidenEmails #...</td>\n",
              "      <td>the Gold State</td>\n",
              "      <td>United States of America</td>\n",
              "      <td>00:02.1</td>\n",
              "      <td>0.000000</td>\n",
              "      <td>0.000000</td>\n",
              "    </tr>\n",
              "    <tr>\n",
              "      <th>4</th>\n",
              "      <td>5</td>\n",
              "      <td>10/15/2020 0:00</td>\n",
              "      <td>\"IS THIS WRONG??!!\" Cory Booker's BRILLIANT Fi...</td>\n",
              "      <td>Dose of Dissonance</td>\n",
              "      <td>NaN</td>\n",
              "      <td>00:02.6</td>\n",
              "      <td>0.966667</td>\n",
              "      <td>0.039583</td>\n",
              "    </tr>\n",
              "    <tr>\n",
              "      <th>...</th>\n",
              "      <td>...</td>\n",
              "      <td>...</td>\n",
              "      <td>...</td>\n",
              "      <td>...</td>\n",
              "      <td>...</td>\n",
              "      <td>...</td>\n",
              "      <td>...</td>\n",
              "      <td>...</td>\n",
              "    </tr>\n",
              "    <tr>\n",
              "      <th>967</th>\n",
              "      <td>1095</td>\n",
              "      <td>10/15/2020 1:11</td>\n",
              "      <td>@eliascaress \"We are from Scranton, PA we will...</td>\n",
              "      <td>Parker</td>\n",
              "      <td>NaN</td>\n",
              "      <td>09:40.5</td>\n",
              "      <td>0.535714</td>\n",
              "      <td>0.446429</td>\n",
              "    </tr>\n",
              "    <tr>\n",
              "      <th>968</th>\n",
              "      <td>1096</td>\n",
              "      <td>10/15/2020 1:11</td>\n",
              "      <td>https://t.co/KkFtJxrMMb inside Joe Biden’s $4....</td>\n",
              "      <td>robert boyer</td>\n",
              "      <td>NaN</td>\n",
              "      <td>09:41.5</td>\n",
              "      <td>0.291667</td>\n",
              "      <td>0.225000</td>\n",
              "    </tr>\n",
              "    <tr>\n",
              "      <th>969</th>\n",
              "      <td>1097</td>\n",
              "      <td>10/15/2020 1:11</td>\n",
              "      <td>#HunterBiden #JoeBiden #Trump2020   \\n#Electio...</td>\n",
              "      <td>Massive Dynamyx 🏴󠁧󠁢󠁥󠁮󠁧󠁿 ➐</td>\n",
              "      <td>NaN</td>\n",
              "      <td>09:41.0</td>\n",
              "      <td>0.000000</td>\n",
              "      <td>0.000000</td>\n",
              "    </tr>\n",
              "    <tr>\n",
              "      <th>970</th>\n",
              "      <td>1098</td>\n",
              "      <td>10/15/2020 1:11</td>\n",
              "      <td>GOT OUR MAIL-IN BALLOTS TODAY!!!\\n\\n#JoeBiden ...</td>\n",
              "      <td>g flores</td>\n",
              "      <td>NaN</td>\n",
              "      <td>09:42.0</td>\n",
              "      <td>0.000000</td>\n",
              "      <td>0.000000</td>\n",
              "    </tr>\n",
              "    <tr>\n",
              "      <th>971</th>\n",
              "      <td>1099</td>\n",
              "      <td>10/15/2020 1:11</td>\n",
              "      <td>#HunterBidenEmails #JoeBiden #NYPost #MAGA Ple...</td>\n",
              "      <td>Renee A Campeau 👠💋🐱</td>\n",
              "      <td>Canada</td>\n",
              "      <td>09:42.6</td>\n",
              "      <td>0.116667</td>\n",
              "      <td>0.083333</td>\n",
              "    </tr>\n",
              "  </tbody>\n",
              "</table>\n",
              "<p>972 rows × 8 columns</p>\n",
              "</div>"
            ],
            "text/plain": [
              "     Unnamed: 0       created_at  ... Subjectivity  Polarity\n",
              "0             1  10/15/2020 0:00  ...     0.000000  0.000000\n",
              "1             2  10/15/2020 0:00  ...     0.000000  0.000000\n",
              "2             3  10/15/2020 0:00  ...     0.000000  0.000000\n",
              "3             4  10/15/2020 0:00  ...     0.000000  0.000000\n",
              "4             5  10/15/2020 0:00  ...     0.966667  0.039583\n",
              "..          ...              ...  ...          ...       ...\n",
              "967        1095  10/15/2020 1:11  ...     0.535714  0.446429\n",
              "968        1096  10/15/2020 1:11  ...     0.291667  0.225000\n",
              "969        1097  10/15/2020 1:11  ...     0.000000  0.000000\n",
              "970        1098  10/15/2020 1:11  ...     0.000000  0.000000\n",
              "971        1099  10/15/2020 1:11  ...     0.116667  0.083333\n",
              "\n",
              "[972 rows x 8 columns]"
            ]
          },
          "metadata": {
            "tags": []
          },
          "execution_count": 69
        }
      ]
    },
    {
      "cell_type": "code",
      "metadata": {
        "colab": {
          "base_uri": "https://localhost:8080/",
          "height": 570
        },
        "id": "vInMYIBGzRLz",
        "outputId": "3b711edd-dbb9-435a-99a7-182285435477"
      },
      "source": [
        "def getAnalysis(score):\n",
        "  if score<0:\n",
        "    return 'Negative'\n",
        "  elif score==0:\n",
        "      return 'Neutral'\n",
        "  else:\n",
        "    return 'Positive'\n",
        "\n",
        "trump_df['Analysis']= trump_df['Polarity'].apply(getAnalysis)\n",
        "#trump_df.to_excel('Trumptweets_withpolarity.xlsx',engine='openpyxl')\n",
        "trump_df"
      ],
      "execution_count": 72,
      "outputs": [
        {
          "output_type": "execute_result",
          "data": {
            "text/html": [
              "<div>\n",
              "<style scoped>\n",
              "    .dataframe tbody tr th:only-of-type {\n",
              "        vertical-align: middle;\n",
              "    }\n",
              "\n",
              "    .dataframe tbody tr th {\n",
              "        vertical-align: top;\n",
              "    }\n",
              "\n",
              "    .dataframe thead th {\n",
              "        text-align: right;\n",
              "    }\n",
              "</style>\n",
              "<table border=\"1\" class=\"dataframe\">\n",
              "  <thead>\n",
              "    <tr style=\"text-align: right;\">\n",
              "      <th></th>\n",
              "      <th>Unnamed: 0</th>\n",
              "      <th>created_at</th>\n",
              "      <th>tweet</th>\n",
              "      <th>user_name</th>\n",
              "      <th>country</th>\n",
              "      <th>collected_at</th>\n",
              "      <th>Subjectivity</th>\n",
              "      <th>Polarity</th>\n",
              "      <th>Analysis</th>\n",
              "    </tr>\n",
              "  </thead>\n",
              "  <tbody>\n",
              "    <tr>\n",
              "      <th>0</th>\n",
              "      <td>2</td>\n",
              "      <td>10/15/2020 0:00</td>\n",
              "      <td>#Trump: As a student I used to hear for years,...</td>\n",
              "      <td>snarke</td>\n",
              "      <td>United States of America</td>\n",
              "      <td>00:00.7</td>\n",
              "      <td>0.333333</td>\n",
              "      <td>0.333333</td>\n",
              "      <td>Positive</td>\n",
              "    </tr>\n",
              "    <tr>\n",
              "      <th>1</th>\n",
              "      <td>3</td>\n",
              "      <td>10/15/2020 0:00</td>\n",
              "      <td>2 hours since last tweet from #Trump! Maybe he...</td>\n",
              "      <td>Trumpytweeter</td>\n",
              "      <td>NaN</td>\n",
              "      <td>00:01.1</td>\n",
              "      <td>0.252222</td>\n",
              "      <td>0.076667</td>\n",
              "      <td>Positive</td>\n",
              "    </tr>\n",
              "    <tr>\n",
              "      <th>2</th>\n",
              "      <td>4</td>\n",
              "      <td>10/15/2020 0:00</td>\n",
              "      <td>You get a tie! And you get a tie! #Trump ‘s ra...</td>\n",
              "      <td>Rana Abtar - رنا أبتر</td>\n",
              "      <td>United States of America</td>\n",
              "      <td>00:01.5</td>\n",
              "      <td>0.000000</td>\n",
              "      <td>0.000000</td>\n",
              "      <td>Neutral</td>\n",
              "    </tr>\n",
              "    <tr>\n",
              "      <th>3</th>\n",
              "      <td>5</td>\n",
              "      <td>10/15/2020 0:00</td>\n",
              "      <td>@CLady62 Her 15 minutes were over long time ag...</td>\n",
              "      <td>Farris Flagg</td>\n",
              "      <td>United States of America</td>\n",
              "      <td>00:01.9</td>\n",
              "      <td>0.416667</td>\n",
              "      <td>-0.155208</td>\n",
              "      <td>Negative</td>\n",
              "    </tr>\n",
              "    <tr>\n",
              "      <th>4</th>\n",
              "      <td>7</td>\n",
              "      <td>10/15/2020 0:00</td>\n",
              "      <td>@DeeviousDenise @realDonaldTrump @nypost There...</td>\n",
              "      <td>Stacey Gulledge 🇺🇸 Patriot ♥️ KAG 🙏 👮‍♀️♥️</td>\n",
              "      <td>United States of America</td>\n",
              "      <td>00:02.6</td>\n",
              "      <td>0.523810</td>\n",
              "      <td>0.178571</td>\n",
              "      <td>Positive</td>\n",
              "    </tr>\n",
              "    <tr>\n",
              "      <th>...</th>\n",
              "      <td>...</td>\n",
              "      <td>...</td>\n",
              "      <td>...</td>\n",
              "      <td>...</td>\n",
              "      <td>...</td>\n",
              "      <td>...</td>\n",
              "      <td>...</td>\n",
              "      <td>...</td>\n",
              "      <td>...</td>\n",
              "    </tr>\n",
              "    <tr>\n",
              "      <th>1188</th>\n",
              "      <td>1394</td>\n",
              "      <td>10/15/2020 1:29</td>\n",
              "      <td>Politics has become 100% corruption because go...</td>\n",
              "      <td>bitcoin</td>\n",
              "      <td>NaN</td>\n",
              "      <td>08:48.8</td>\n",
              "      <td>0.100000</td>\n",
              "      <td>0.000000</td>\n",
              "      <td>Neutral</td>\n",
              "    </tr>\n",
              "    <tr>\n",
              "      <th>1189</th>\n",
              "      <td>1395</td>\n",
              "      <td>10/15/2020 1:29</td>\n",
              "      <td>#Trump #BidenTownHall #BidenHarris #Biden #Bur...</td>\n",
              "      <td>Cheryl</td>\n",
              "      <td>NaN</td>\n",
              "      <td>08:48.5</td>\n",
              "      <td>0.000000</td>\n",
              "      <td>0.000000</td>\n",
              "      <td>Neutral</td>\n",
              "    </tr>\n",
              "    <tr>\n",
              "      <th>1190</th>\n",
              "      <td>1396</td>\n",
              "      <td>10/15/2020 1:29</td>\n",
              "      <td>@BrunoStagno And lets not forget... #MBS silen...</td>\n",
              "      <td>GryphonsPerch</td>\n",
              "      <td>NaN</td>\n",
              "      <td>08:49.2</td>\n",
              "      <td>1.000000</td>\n",
              "      <td>-0.875000</td>\n",
              "      <td>Negative</td>\n",
              "    </tr>\n",
              "    <tr>\n",
              "      <th>1191</th>\n",
              "      <td>1398</td>\n",
              "      <td>10/15/2020 1:30</td>\n",
              "      <td>“U.S. President Donald #Trump noted that the W...</td>\n",
              "      <td>PanAm Post</td>\n",
              "      <td>United States of America</td>\n",
              "      <td>08:49.6</td>\n",
              "      <td>0.500000</td>\n",
              "      <td>0.000000</td>\n",
              "      <td>Neutral</td>\n",
              "    </tr>\n",
              "    <tr>\n",
              "      <th>1192</th>\n",
              "      <td>1399</td>\n",
              "      <td>10/15/2020 1:30</td>\n",
              "      <td>If you're not convinced yet #Iowa for the #Iow...</td>\n",
              "      <td>TrickOrTweeter (OFFICIAL) 🍈🍆🍈</td>\n",
              "      <td>NaN</td>\n",
              "      <td>08:50.3</td>\n",
              "      <td>0.000000</td>\n",
              "      <td>0.000000</td>\n",
              "      <td>Neutral</td>\n",
              "    </tr>\n",
              "  </tbody>\n",
              "</table>\n",
              "<p>1193 rows × 9 columns</p>\n",
              "</div>"
            ],
            "text/plain": [
              "      Unnamed: 0       created_at  ...  Polarity  Analysis\n",
              "0              2  10/15/2020 0:00  ...  0.333333  Positive\n",
              "1              3  10/15/2020 0:00  ...  0.076667  Positive\n",
              "2              4  10/15/2020 0:00  ...  0.000000   Neutral\n",
              "3              5  10/15/2020 0:00  ... -0.155208  Negative\n",
              "4              7  10/15/2020 0:00  ...  0.178571  Positive\n",
              "...          ...              ...  ...       ...       ...\n",
              "1188        1394  10/15/2020 1:29  ...  0.000000   Neutral\n",
              "1189        1395  10/15/2020 1:29  ...  0.000000   Neutral\n",
              "1190        1396  10/15/2020 1:29  ... -0.875000  Negative\n",
              "1191        1398  10/15/2020 1:30  ...  0.000000   Neutral\n",
              "1192        1399  10/15/2020 1:30  ...  0.000000   Neutral\n",
              "\n",
              "[1193 rows x 9 columns]"
            ]
          },
          "metadata": {
            "tags": []
          },
          "execution_count": 72
        }
      ]
    },
    {
      "cell_type": "code",
      "metadata": {
        "colab": {
          "base_uri": "https://localhost:8080/",
          "height": 570
        },
        "id": "7zoMC-kc8oKD",
        "outputId": "109fcb13-22d9-4d2c-c183-a4d50b97c5c4"
      },
      "source": [
        "biden_df['Analysis']= biden_df['Polarity'].apply(getAnalysis)\n",
        "#biden_df.to_excel('Trumptweets_withpolarity.xlsx',engine='openpyxl')\n",
        "biden_df"
      ],
      "execution_count": 73,
      "outputs": [
        {
          "output_type": "execute_result",
          "data": {
            "text/html": [
              "<div>\n",
              "<style scoped>\n",
              "    .dataframe tbody tr th:only-of-type {\n",
              "        vertical-align: middle;\n",
              "    }\n",
              "\n",
              "    .dataframe tbody tr th {\n",
              "        vertical-align: top;\n",
              "    }\n",
              "\n",
              "    .dataframe thead th {\n",
              "        text-align: right;\n",
              "    }\n",
              "</style>\n",
              "<table border=\"1\" class=\"dataframe\">\n",
              "  <thead>\n",
              "    <tr style=\"text-align: right;\">\n",
              "      <th></th>\n",
              "      <th>Unnamed: 0</th>\n",
              "      <th>created_at</th>\n",
              "      <th>tweet</th>\n",
              "      <th>user_name</th>\n",
              "      <th>country</th>\n",
              "      <th>collected_at</th>\n",
              "      <th>Subjectivity</th>\n",
              "      <th>Polarity</th>\n",
              "      <th>Analysis</th>\n",
              "    </tr>\n",
              "  </thead>\n",
              "  <tbody>\n",
              "    <tr>\n",
              "      <th>0</th>\n",
              "      <td>1</td>\n",
              "      <td>10/15/2020 0:00</td>\n",
              "      <td>#HunterBiden #HunterBidenEmails #JoeBiden #Joe...</td>\n",
              "      <td>Cheri A. 🇺🇸</td>\n",
              "      <td>NaN</td>\n",
              "      <td>00:00.5</td>\n",
              "      <td>0.000000</td>\n",
              "      <td>0.000000</td>\n",
              "      <td>Neutral</td>\n",
              "    </tr>\n",
              "    <tr>\n",
              "      <th>1</th>\n",
              "      <td>2</td>\n",
              "      <td>10/15/2020 0:00</td>\n",
              "      <td>@IslandGirlPRV @BradBeauregardJ @MeidasTouch T...</td>\n",
              "      <td>Flag Waver</td>\n",
              "      <td>United States of America</td>\n",
              "      <td>00:01.0</td>\n",
              "      <td>0.000000</td>\n",
              "      <td>0.000000</td>\n",
              "      <td>Neutral</td>\n",
              "    </tr>\n",
              "    <tr>\n",
              "      <th>2</th>\n",
              "      <td>3</td>\n",
              "      <td>10/15/2020 0:00</td>\n",
              "      <td>@chrislongview Watching and setting dvr. Let’s...</td>\n",
              "      <td>Michelle Ferg</td>\n",
              "      <td>NaN</td>\n",
              "      <td>00:01.6</td>\n",
              "      <td>0.000000</td>\n",
              "      <td>0.000000</td>\n",
              "      <td>Neutral</td>\n",
              "    </tr>\n",
              "    <tr>\n",
              "      <th>3</th>\n",
              "      <td>4</td>\n",
              "      <td>10/15/2020 0:00</td>\n",
              "      <td>#censorship #HunterBiden #Biden #BidenEmails #...</td>\n",
              "      <td>the Gold State</td>\n",
              "      <td>United States of America</td>\n",
              "      <td>00:02.1</td>\n",
              "      <td>0.000000</td>\n",
              "      <td>0.000000</td>\n",
              "      <td>Neutral</td>\n",
              "    </tr>\n",
              "    <tr>\n",
              "      <th>4</th>\n",
              "      <td>5</td>\n",
              "      <td>10/15/2020 0:00</td>\n",
              "      <td>\"IS THIS WRONG??!!\" Cory Booker's BRILLIANT Fi...</td>\n",
              "      <td>Dose of Dissonance</td>\n",
              "      <td>NaN</td>\n",
              "      <td>00:02.6</td>\n",
              "      <td>0.966667</td>\n",
              "      <td>0.039583</td>\n",
              "      <td>Positive</td>\n",
              "    </tr>\n",
              "    <tr>\n",
              "      <th>...</th>\n",
              "      <td>...</td>\n",
              "      <td>...</td>\n",
              "      <td>...</td>\n",
              "      <td>...</td>\n",
              "      <td>...</td>\n",
              "      <td>...</td>\n",
              "      <td>...</td>\n",
              "      <td>...</td>\n",
              "      <td>...</td>\n",
              "    </tr>\n",
              "    <tr>\n",
              "      <th>967</th>\n",
              "      <td>1095</td>\n",
              "      <td>10/15/2020 1:11</td>\n",
              "      <td>@eliascaress \"We are from Scranton, PA we will...</td>\n",
              "      <td>Parker</td>\n",
              "      <td>NaN</td>\n",
              "      <td>09:40.5</td>\n",
              "      <td>0.535714</td>\n",
              "      <td>0.446429</td>\n",
              "      <td>Positive</td>\n",
              "    </tr>\n",
              "    <tr>\n",
              "      <th>968</th>\n",
              "      <td>1096</td>\n",
              "      <td>10/15/2020 1:11</td>\n",
              "      <td>https://t.co/KkFtJxrMMb inside Joe Biden’s $4....</td>\n",
              "      <td>robert boyer</td>\n",
              "      <td>NaN</td>\n",
              "      <td>09:41.5</td>\n",
              "      <td>0.291667</td>\n",
              "      <td>0.225000</td>\n",
              "      <td>Positive</td>\n",
              "    </tr>\n",
              "    <tr>\n",
              "      <th>969</th>\n",
              "      <td>1097</td>\n",
              "      <td>10/15/2020 1:11</td>\n",
              "      <td>#HunterBiden #JoeBiden #Trump2020   \\n#Electio...</td>\n",
              "      <td>Massive Dynamyx 🏴󠁧󠁢󠁥󠁮󠁧󠁿 ➐</td>\n",
              "      <td>NaN</td>\n",
              "      <td>09:41.0</td>\n",
              "      <td>0.000000</td>\n",
              "      <td>0.000000</td>\n",
              "      <td>Neutral</td>\n",
              "    </tr>\n",
              "    <tr>\n",
              "      <th>970</th>\n",
              "      <td>1098</td>\n",
              "      <td>10/15/2020 1:11</td>\n",
              "      <td>GOT OUR MAIL-IN BALLOTS TODAY!!!\\n\\n#JoeBiden ...</td>\n",
              "      <td>g flores</td>\n",
              "      <td>NaN</td>\n",
              "      <td>09:42.0</td>\n",
              "      <td>0.000000</td>\n",
              "      <td>0.000000</td>\n",
              "      <td>Neutral</td>\n",
              "    </tr>\n",
              "    <tr>\n",
              "      <th>971</th>\n",
              "      <td>1099</td>\n",
              "      <td>10/15/2020 1:11</td>\n",
              "      <td>#HunterBidenEmails #JoeBiden #NYPost #MAGA Ple...</td>\n",
              "      <td>Renee A Campeau 👠💋🐱</td>\n",
              "      <td>Canada</td>\n",
              "      <td>09:42.6</td>\n",
              "      <td>0.116667</td>\n",
              "      <td>0.083333</td>\n",
              "      <td>Positive</td>\n",
              "    </tr>\n",
              "  </tbody>\n",
              "</table>\n",
              "<p>972 rows × 9 columns</p>\n",
              "</div>"
            ],
            "text/plain": [
              "     Unnamed: 0       created_at  ...  Polarity  Analysis\n",
              "0             1  10/15/2020 0:00  ...  0.000000   Neutral\n",
              "1             2  10/15/2020 0:00  ...  0.000000   Neutral\n",
              "2             3  10/15/2020 0:00  ...  0.000000   Neutral\n",
              "3             4  10/15/2020 0:00  ...  0.000000   Neutral\n",
              "4             5  10/15/2020 0:00  ...  0.039583  Positive\n",
              "..          ...              ...  ...       ...       ...\n",
              "967        1095  10/15/2020 1:11  ...  0.446429  Positive\n",
              "968        1096  10/15/2020 1:11  ...  0.225000  Positive\n",
              "969        1097  10/15/2020 1:11  ...  0.000000   Neutral\n",
              "970        1098  10/15/2020 1:11  ...  0.000000   Neutral\n",
              "971        1099  10/15/2020 1:11  ...  0.083333  Positive\n",
              "\n",
              "[972 rows x 9 columns]"
            ]
          },
          "metadata": {
            "tags": []
          },
          "execution_count": 73
        }
      ]
    },
    {
      "cell_type": "code",
      "metadata": {
        "id": "Yd_3bH3Yx_VQ"
      },
      "source": [
        "y = ['Trump']*len(trump)\n",
        "y.extend(['Biden']*len(biden))"
      ],
      "execution_count": 74,
      "outputs": []
    },
    {
      "cell_type": "code",
      "metadata": {
        "id": "AenKESKIyBs7"
      },
      "source": [
        "vectorizer = TfidfVectorizer()"
      ],
      "execution_count": 75,
      "outputs": []
    },
    {
      "cell_type": "code",
      "metadata": {
        "id": "ITKsChBMyDWW"
      },
      "source": [
        "x = vectorizer.fit_transform(corpus)"
      ],
      "execution_count": 76,
      "outputs": []
    },
    {
      "cell_type": "code",
      "metadata": {
        "id": "R-NTy_ypyFDH"
      },
      "source": [
        "column_names = vectorizer.get_feature_names()"
      ],
      "execution_count": 77,
      "outputs": []
    },
    {
      "cell_type": "code",
      "metadata": {
        "id": "XnC7SNkMyHF-"
      },
      "source": [
        "X = pd.DataFrame(x.toarray())"
      ],
      "execution_count": 78,
      "outputs": []
    },
    {
      "cell_type": "code",
      "metadata": {
        "id": "DGyWFyHIyIzY"
      },
      "source": [
        "X.columns = column_names\n",
        "X.index = corpus"
      ],
      "execution_count": 79,
      "outputs": []
    },
    {
      "cell_type": "code",
      "metadata": {
        "id": "S4p0HoIoyKxJ"
      },
      "source": [
        "x_train, x_test, y_train, y_test = train_test_split(X, y, test_size=0.2)"
      ],
      "execution_count": 80,
      "outputs": []
    },
    {
      "cell_type": "code",
      "metadata": {
        "colab": {
          "base_uri": "https://localhost:8080/"
        },
        "id": "pNicI8oLyMrZ",
        "outputId": "47247ac9-9587-4d33-93dc-1efeec5ed8e4"
      },
      "source": [
        "print(len(x_train))\n",
        "print(len(x_test))\n",
        "print(len(y_train))\n",
        "print(len(y_test))"
      ],
      "execution_count": 81,
      "outputs": [
        {
          "output_type": "stream",
          "text": [
            "1732\n",
            "433\n",
            "1732\n",
            "433\n"
          ],
          "name": "stdout"
        }
      ]
    },
    {
      "cell_type": "code",
      "metadata": {
        "id": "Xr2OgNy8yOvc"
      },
      "source": [
        "svcModel = SVC()\n",
        "svcModel.fit(x_train, y_train)\n",
        "y_pred_svc = svcModel.predict(x_test)"
      ],
      "execution_count": 82,
      "outputs": []
    },
    {
      "cell_type": "code",
      "metadata": {
        "id": "UcyYrJdKyRhz"
      },
      "source": [
        "gnbModel = GaussianNB()\n",
        "gnbModel.fit(x_train, y_train)\n",
        "y_pred_gnb = gnbModel.predict(x_test)"
      ],
      "execution_count": 41,
      "outputs": []
    },
    {
      "cell_type": "code",
      "metadata": {
        "id": "4OWMXrLFyTsD"
      },
      "source": [
        "dtModel = DecisionTreeClassifier()\n",
        "dtModel.fit(x_train, y_train)\n",
        "y_pred_dt = dtModel.predict(x_test)"
      ],
      "execution_count": 42,
      "outputs": []
    },
    {
      "cell_type": "code",
      "metadata": {
        "id": "seKR3xGhyXJq"
      },
      "source": [
        "rfModel = RandomForestClassifier()\n",
        "rfModel.fit(x_train, y_train)\n",
        "y_pred_rf = rfModel.predict(x_test)"
      ],
      "execution_count": 43,
      "outputs": []
    },
    {
      "cell_type": "code",
      "metadata": {
        "id": "201ZEoEFyXpA"
      },
      "source": [
        "xgbModel = XGBRFClassifier()\n",
        "xgbModel.fit(x_train, y_train)\n",
        "y_pred_xgb = xgbModel.predict(x_test)"
      ],
      "execution_count": 44,
      "outputs": []
    },
    {
      "cell_type": "code",
      "metadata": {
        "colab": {
          "base_uri": "https://localhost:8080/"
        },
        "id": "chMEcvuHyZ8G",
        "outputId": "d56be849-d06f-4a45-fbe2-a9f8df340dd9"
      },
      "source": [
        "ac_svc = accuracy_score(y_test, y_pred_svc)\n",
        "ac_gnb = accuracy_score(y_test, y_pred_gnb)\n",
        "ac_dt = accuracy_score(y_test, y_pred_dt)\n",
        "ac_rf = accuracy_score(y_test, y_pred_rf)\n",
        "ac_xgb = accuracy_score(y_test, y_pred_xgb)\n",
        "print(ac_svc)\n",
        "print(ac_dt)\n",
        "print(ac_gnb)\n",
        "print(ac_rf)\n",
        "print(ac_xgb)"
      ],
      "execution_count": 45,
      "outputs": [
        {
          "output_type": "stream",
          "text": [
            "0.8452655889145496\n",
            "0.8545034642032333\n",
            "0.5889145496535797\n",
            "0.8429561200923787\n",
            "0.8822170900692841\n"
          ],
          "name": "stdout"
        }
      ]
    },
    {
      "cell_type": "code",
      "metadata": {
        "colab": {
          "base_uri": "https://localhost:8080/"
        },
        "id": "fkR7ZlbcyeVu",
        "outputId": "72d314f9-a96f-4ae3-9f2d-28c4d91c26e1"
      },
      "source": [
        "ps_svc = precision_score(y_test, y_pred_svc, pos_label='Biden')\n",
        "ps_gnb = precision_score(y_test, y_pred_gnb, pos_label='Biden')\n",
        "ps_dt = precision_score(y_test, y_pred_dt, pos_label='Biden')\n",
        "ps_rf = precision_score(y_test, y_pred_rf, pos_label='Biden')\n",
        "ps_xgb = precision_score(y_test, y_pred_xgb, pos_label='Biden')\n",
        "print(ps_svc)\n",
        "print(ps_dt)\n",
        "print(ps_gnb)\n",
        "print(ps_rf)\n",
        "print(ps_xgb)"
      ],
      "execution_count": 46,
      "outputs": [
        {
          "output_type": "stream",
          "text": [
            "0.8841463414634146\n",
            "0.8494623655913979\n",
            "0.5348837209302325\n",
            "0.8378378378378378\n",
            "0.9382716049382716\n"
          ],
          "name": "stdout"
        }
      ]
    },
    {
      "cell_type": "code",
      "metadata": {
        "colab": {
          "base_uri": "https://localhost:8080/"
        },
        "id": "kX68KrbmygVg",
        "outputId": "1d970fc5-4025-4131-fc3a-8d451bcd0666"
      },
      "source": [
        "rs_svc = recall_score(y_test, y_pred_svc, pos_label='Biden')\n",
        "rs_gnb = recall_score(y_test, y_pred_gnb, pos_label='Biden')\n",
        "rs_dt = recall_score(y_test, y_pred_dt, pos_label='Biden')\n",
        "rs_rf = recall_score(y_test, y_pred_rf, pos_label='Biden')\n",
        "rs_xgb = recall_score(y_test, y_pred_xgb, pos_label='Biden')\n",
        "print(rs_svc)\n",
        "print(rs_dt)\n",
        "print(rs_gnb)\n",
        "print(rs_rf)\n",
        "print(rs_xgb)"
      ],
      "execution_count": 47,
      "outputs": [
        {
          "output_type": "stream",
          "text": [
            "0.7512953367875648\n",
            "0.8186528497409327\n",
            "0.5958549222797928\n",
            "0.8031088082901554\n",
            "0.7875647668393783\n"
          ],
          "name": "stdout"
        }
      ]
    },
    {
      "cell_type": "code",
      "metadata": {
        "colab": {
          "base_uri": "https://localhost:8080/",
          "height": 446
        },
        "id": "i7L0wQISyiU-",
        "outputId": "bb4fa7e6-d61e-419b-873b-1d2a7bf0cebb"
      },
      "source": [
        "auc_svc = roc_auc_score(y_test, y_pred_svc)\n",
        "auc_gnb = roc_auc_score(y_test, y_pred_gnb)\n",
        "auc_dt = roc_auc_score(y_test, y_pred_dt)\n",
        "auc_rf = roc_auc_score(y_test, y_pred_rf)\n",
        "auc_xgb = roc_auc_score(y_test, y_pred_xgb)\n",
        "print(auc_svc)\n",
        "print(auc_dt)\n",
        "print(auc_gnb)\n",
        "print(auc_rf)\n",
        "print(auc_xgb)"
      ],
      "execution_count": 48,
      "outputs": [
        {
          "output_type": "stream",
          "text": [
            "/usr/local/lib/python3.7/dist-packages/sklearn/metrics/_ranking.py:369: FutureWarning: Beginning in version 0.22, arrays of bytes/strings will be converted to decimal numbers if dtype='numeric'. It is recommended that you convert the array to a float dtype before using it in scikit-learn, for example by using your_array = your_array.astype(np.float64).\n",
            "  y_score = check_array(y_score, ensure_2d=False)\n"
          ],
          "name": "stderr"
        },
        {
          "output_type": "error",
          "ename": "UFuncTypeError",
          "evalue": "ignored",
          "traceback": [
            "\u001b[0;31m---------------------------------------------------------------------------\u001b[0m",
            "\u001b[0;31mUFuncTypeError\u001b[0m                            Traceback (most recent call last)",
            "\u001b[0;32m<ipython-input-48-d45d4ada30e2>\u001b[0m in \u001b[0;36m<module>\u001b[0;34m()\u001b[0m\n\u001b[0;32m----> 1\u001b[0;31m \u001b[0mauc_svc\u001b[0m \u001b[0;34m=\u001b[0m \u001b[0mroc_auc_score\u001b[0m\u001b[0;34m(\u001b[0m\u001b[0my_test\u001b[0m\u001b[0;34m,\u001b[0m \u001b[0my_pred_svc\u001b[0m\u001b[0;34m)\u001b[0m\u001b[0;34m\u001b[0m\u001b[0;34m\u001b[0m\u001b[0m\n\u001b[0m\u001b[1;32m      2\u001b[0m \u001b[0mauc_gnb\u001b[0m \u001b[0;34m=\u001b[0m \u001b[0mroc_auc_score\u001b[0m\u001b[0;34m(\u001b[0m\u001b[0my_test\u001b[0m\u001b[0;34m,\u001b[0m \u001b[0my_pred_gnb\u001b[0m\u001b[0;34m)\u001b[0m\u001b[0;34m\u001b[0m\u001b[0;34m\u001b[0m\u001b[0m\n\u001b[1;32m      3\u001b[0m \u001b[0mauc_dt\u001b[0m \u001b[0;34m=\u001b[0m \u001b[0mroc_auc_score\u001b[0m\u001b[0;34m(\u001b[0m\u001b[0my_test\u001b[0m\u001b[0;34m,\u001b[0m \u001b[0my_pred_dt\u001b[0m\u001b[0;34m)\u001b[0m\u001b[0;34m\u001b[0m\u001b[0;34m\u001b[0m\u001b[0m\n\u001b[1;32m      4\u001b[0m \u001b[0mauc_rf\u001b[0m \u001b[0;34m=\u001b[0m \u001b[0mroc_auc_score\u001b[0m\u001b[0;34m(\u001b[0m\u001b[0my_test\u001b[0m\u001b[0;34m,\u001b[0m \u001b[0my_pred_rf\u001b[0m\u001b[0;34m)\u001b[0m\u001b[0;34m\u001b[0m\u001b[0;34m\u001b[0m\u001b[0m\n\u001b[1;32m      5\u001b[0m \u001b[0mauc_xgb\u001b[0m \u001b[0;34m=\u001b[0m \u001b[0mroc_auc_score\u001b[0m\u001b[0;34m(\u001b[0m\u001b[0my_test\u001b[0m\u001b[0;34m,\u001b[0m \u001b[0my_pred_xgb\u001b[0m\u001b[0;34m)\u001b[0m\u001b[0;34m\u001b[0m\u001b[0;34m\u001b[0m\u001b[0m\n",
            "\u001b[0;32m/usr/local/lib/python3.7/dist-packages/sklearn/metrics/_ranking.py\u001b[0m in \u001b[0;36mroc_auc_score\u001b[0;34m(y_true, y_score, average, sample_weight, max_fpr, multi_class, labels)\u001b[0m\n\u001b[1;32m    388\u001b[0m                                              max_fpr=max_fpr),\n\u001b[1;32m    389\u001b[0m                                      \u001b[0my_true\u001b[0m\u001b[0;34m,\u001b[0m \u001b[0my_score\u001b[0m\u001b[0;34m,\u001b[0m \u001b[0maverage\u001b[0m\u001b[0;34m,\u001b[0m\u001b[0;34m\u001b[0m\u001b[0;34m\u001b[0m\u001b[0m\n\u001b[0;32m--> 390\u001b[0;31m                                      sample_weight=sample_weight)\n\u001b[0m\u001b[1;32m    391\u001b[0m     \u001b[0;32melse\u001b[0m\u001b[0;34m:\u001b[0m  \u001b[0;31m# multilabel-indicator\u001b[0m\u001b[0;34m\u001b[0m\u001b[0;34m\u001b[0m\u001b[0m\n\u001b[1;32m    392\u001b[0m         return _average_binary_score(partial(_binary_roc_auc_score,\n",
            "\u001b[0;32m/usr/local/lib/python3.7/dist-packages/sklearn/metrics/_base.py\u001b[0m in \u001b[0;36m_average_binary_score\u001b[0;34m(binary_metric, y_true, y_score, average, sample_weight)\u001b[0m\n\u001b[1;32m     75\u001b[0m \u001b[0;34m\u001b[0m\u001b[0m\n\u001b[1;32m     76\u001b[0m     \u001b[0;32mif\u001b[0m \u001b[0my_type\u001b[0m \u001b[0;34m==\u001b[0m \u001b[0;34m\"binary\"\u001b[0m\u001b[0;34m:\u001b[0m\u001b[0;34m\u001b[0m\u001b[0;34m\u001b[0m\u001b[0m\n\u001b[0;32m---> 77\u001b[0;31m         \u001b[0;32mreturn\u001b[0m \u001b[0mbinary_metric\u001b[0m\u001b[0;34m(\u001b[0m\u001b[0my_true\u001b[0m\u001b[0;34m,\u001b[0m \u001b[0my_score\u001b[0m\u001b[0;34m,\u001b[0m \u001b[0msample_weight\u001b[0m\u001b[0;34m=\u001b[0m\u001b[0msample_weight\u001b[0m\u001b[0;34m)\u001b[0m\u001b[0;34m\u001b[0m\u001b[0;34m\u001b[0m\u001b[0m\n\u001b[0m\u001b[1;32m     78\u001b[0m \u001b[0;34m\u001b[0m\u001b[0m\n\u001b[1;32m     79\u001b[0m     \u001b[0mcheck_consistent_length\u001b[0m\u001b[0;34m(\u001b[0m\u001b[0my_true\u001b[0m\u001b[0;34m,\u001b[0m \u001b[0my_score\u001b[0m\u001b[0;34m,\u001b[0m \u001b[0msample_weight\u001b[0m\u001b[0;34m)\u001b[0m\u001b[0;34m\u001b[0m\u001b[0;34m\u001b[0m\u001b[0m\n",
            "\u001b[0;32m/usr/local/lib/python3.7/dist-packages/sklearn/metrics/_ranking.py\u001b[0m in \u001b[0;36m_binary_roc_auc_score\u001b[0;34m(y_true, y_score, sample_weight, max_fpr)\u001b[0m\n\u001b[1;32m    223\u001b[0m \u001b[0;34m\u001b[0m\u001b[0m\n\u001b[1;32m    224\u001b[0m     fpr, tpr, _ = roc_curve(y_true, y_score,\n\u001b[0;32m--> 225\u001b[0;31m                             sample_weight=sample_weight)\n\u001b[0m\u001b[1;32m    226\u001b[0m     \u001b[0;32mif\u001b[0m \u001b[0mmax_fpr\u001b[0m \u001b[0;32mis\u001b[0m \u001b[0;32mNone\u001b[0m \u001b[0;32mor\u001b[0m \u001b[0mmax_fpr\u001b[0m \u001b[0;34m==\u001b[0m \u001b[0;36m1\u001b[0m\u001b[0;34m:\u001b[0m\u001b[0;34m\u001b[0m\u001b[0;34m\u001b[0m\u001b[0m\n\u001b[1;32m    227\u001b[0m         \u001b[0;32mreturn\u001b[0m \u001b[0mauc\u001b[0m\u001b[0;34m(\u001b[0m\u001b[0mfpr\u001b[0m\u001b[0;34m,\u001b[0m \u001b[0mtpr\u001b[0m\u001b[0;34m)\u001b[0m\u001b[0;34m\u001b[0m\u001b[0;34m\u001b[0m\u001b[0m\n",
            "\u001b[0;32m/usr/local/lib/python3.7/dist-packages/sklearn/metrics/_ranking.py\u001b[0m in \u001b[0;36mroc_curve\u001b[0;34m(y_true, y_score, pos_label, sample_weight, drop_intermediate)\u001b[0m\n\u001b[1;32m    769\u001b[0m     \"\"\"\n\u001b[1;32m    770\u001b[0m     fps, tps, thresholds = _binary_clf_curve(\n\u001b[0;32m--> 771\u001b[0;31m         y_true, y_score, pos_label=pos_label, sample_weight=sample_weight)\n\u001b[0m\u001b[1;32m    772\u001b[0m \u001b[0;34m\u001b[0m\u001b[0m\n\u001b[1;32m    773\u001b[0m     \u001b[0;31m# Attempt to drop thresholds corresponding to points in between and\u001b[0m\u001b[0;34m\u001b[0m\u001b[0;34m\u001b[0m\u001b[0;34m\u001b[0m\u001b[0m\n",
            "\u001b[0;32m/usr/local/lib/python3.7/dist-packages/sklearn/metrics/_ranking.py\u001b[0m in \u001b[0;36m_binary_clf_curve\u001b[0;34m(y_true, y_score, pos_label, sample_weight)\u001b[0m\n\u001b[1;32m    581\u001b[0m     \u001b[0;31m# the indices associated with the distinct values. We also\u001b[0m\u001b[0;34m\u001b[0m\u001b[0;34m\u001b[0m\u001b[0;34m\u001b[0m\u001b[0m\n\u001b[1;32m    582\u001b[0m     \u001b[0;31m# concatenate a value for the end of the curve.\u001b[0m\u001b[0;34m\u001b[0m\u001b[0;34m\u001b[0m\u001b[0;34m\u001b[0m\u001b[0m\n\u001b[0;32m--> 583\u001b[0;31m     \u001b[0mdistinct_value_indices\u001b[0m \u001b[0;34m=\u001b[0m \u001b[0mnp\u001b[0m\u001b[0;34m.\u001b[0m\u001b[0mwhere\u001b[0m\u001b[0;34m(\u001b[0m\u001b[0mnp\u001b[0m\u001b[0;34m.\u001b[0m\u001b[0mdiff\u001b[0m\u001b[0;34m(\u001b[0m\u001b[0my_score\u001b[0m\u001b[0;34m)\u001b[0m\u001b[0;34m)\u001b[0m\u001b[0;34m[\u001b[0m\u001b[0;36m0\u001b[0m\u001b[0;34m]\u001b[0m\u001b[0;34m\u001b[0m\u001b[0;34m\u001b[0m\u001b[0m\n\u001b[0m\u001b[1;32m    584\u001b[0m     \u001b[0mthreshold_idxs\u001b[0m \u001b[0;34m=\u001b[0m \u001b[0mnp\u001b[0m\u001b[0;34m.\u001b[0m\u001b[0mr_\u001b[0m\u001b[0;34m[\u001b[0m\u001b[0mdistinct_value_indices\u001b[0m\u001b[0;34m,\u001b[0m \u001b[0my_true\u001b[0m\u001b[0;34m.\u001b[0m\u001b[0msize\u001b[0m \u001b[0;34m-\u001b[0m \u001b[0;36m1\u001b[0m\u001b[0;34m]\u001b[0m\u001b[0;34m\u001b[0m\u001b[0;34m\u001b[0m\u001b[0m\n\u001b[1;32m    585\u001b[0m \u001b[0;34m\u001b[0m\u001b[0m\n",
            "\u001b[0;32m<__array_function__ internals>\u001b[0m in \u001b[0;36mdiff\u001b[0;34m(*args, **kwargs)\u001b[0m\n",
            "\u001b[0;32m/usr/local/lib/python3.7/dist-packages/numpy/lib/function_base.py\u001b[0m in \u001b[0;36mdiff\u001b[0;34m(a, n, axis, prepend, append)\u001b[0m\n\u001b[1;32m   1278\u001b[0m     \u001b[0mop\u001b[0m \u001b[0;34m=\u001b[0m \u001b[0mnot_equal\u001b[0m \u001b[0;32mif\u001b[0m \u001b[0ma\u001b[0m\u001b[0;34m.\u001b[0m\u001b[0mdtype\u001b[0m \u001b[0;34m==\u001b[0m \u001b[0mnp\u001b[0m\u001b[0;34m.\u001b[0m\u001b[0mbool_\u001b[0m \u001b[0;32melse\u001b[0m \u001b[0msubtract\u001b[0m\u001b[0;34m\u001b[0m\u001b[0;34m\u001b[0m\u001b[0m\n\u001b[1;32m   1279\u001b[0m     \u001b[0;32mfor\u001b[0m \u001b[0m_\u001b[0m \u001b[0;32min\u001b[0m \u001b[0mrange\u001b[0m\u001b[0;34m(\u001b[0m\u001b[0mn\u001b[0m\u001b[0;34m)\u001b[0m\u001b[0;34m:\u001b[0m\u001b[0;34m\u001b[0m\u001b[0;34m\u001b[0m\u001b[0m\n\u001b[0;32m-> 1280\u001b[0;31m         \u001b[0ma\u001b[0m \u001b[0;34m=\u001b[0m \u001b[0mop\u001b[0m\u001b[0;34m(\u001b[0m\u001b[0ma\u001b[0m\u001b[0;34m[\u001b[0m\u001b[0mslice1\u001b[0m\u001b[0;34m]\u001b[0m\u001b[0;34m,\u001b[0m \u001b[0ma\u001b[0m\u001b[0;34m[\u001b[0m\u001b[0mslice2\u001b[0m\u001b[0;34m]\u001b[0m\u001b[0;34m)\u001b[0m\u001b[0;34m\u001b[0m\u001b[0;34m\u001b[0m\u001b[0m\n\u001b[0m\u001b[1;32m   1281\u001b[0m \u001b[0;34m\u001b[0m\u001b[0m\n\u001b[1;32m   1282\u001b[0m     \u001b[0;32mreturn\u001b[0m \u001b[0ma\u001b[0m\u001b[0;34m\u001b[0m\u001b[0;34m\u001b[0m\u001b[0m\n",
            "\u001b[0;31mUFuncTypeError\u001b[0m: ufunc 'subtract' did not contain a loop with signature matching types (dtype('<U5'), dtype('<U5')) -> dtype('<U5')"
          ]
        }
      ]
    },
    {
      "cell_type": "code",
      "metadata": {
        "colab": {
          "base_uri": "https://localhost:8080/"
        },
        "id": "_p7ippAmykZc",
        "outputId": "ff3389d5-0593-476f-84a0-8cfec43a67c5"
      },
      "source": [
        "f1_svc = f1_score(y_test, y_pred_svc, pos_label='Biden')\n",
        "f1_gnb = f1_score(y_test, y_pred_gnb, pos_label='Biden')\n",
        "f1_dt = f1_score(y_test, y_pred_dt, pos_label='Biden')\n",
        "f1_rf = f1_score(y_test, y_pred_rf, pos_label='Biden')\n",
        "f1_xgb = f1_score(y_test, y_pred_xgb, pos_label='Biden')\n",
        "print(f1_svc)\n",
        "print(f1_dt)\n",
        "print(f1_gnb)\n",
        "print(f1_rf)\n",
        "print(f1_xgb)"
      ],
      "execution_count": 49,
      "outputs": [
        {
          "output_type": "stream",
          "text": [
            "0.8123249299719888\n",
            "0.8337730870712402\n",
            "0.5637254901960783\n",
            "0.8201058201058201\n",
            "0.856338028169014\n"
          ],
          "name": "stdout"
        }
      ]
    },
    {
      "cell_type": "code",
      "metadata": {
        "id": "tabwWGiLym3y"
      },
      "source": [
        "df = pd.DataFrame()\n",
        "df['Models'] = ['Support Vector', 'Naive Bayes',\n",
        "                'Decision Tree', 'Random Forest', 'Xgboost']\n",
        "df['Accuracy'] = [ac_svc, ac_gnb, ac_dt, ac_rf, ac_xgb]\n",
        "df['PrecisionScore'] = [ps_svc, ps_gnb, ps_dt, ps_rf, ps_xgb]\n",
        "df['RecallScore'] = [rs_svc, rs_gnb, rs_dt, rs_rf, rs_xgb]\n",
        "df['f1Score'] = [f1_svc, f1_gnb, f1_dt, f1_rf, f1_xgb]"
      ],
      "execution_count": 50,
      "outputs": []
    },
    {
      "cell_type": "code",
      "metadata": {
        "colab": {
          "base_uri": "https://localhost:8080/",
          "height": 968
        },
        "id": "5x83e6uuyqzS",
        "outputId": "208ff42d-8d53-431d-9dd5-9b30ae098b68"
      },
      "source": [
        "sns.barplot(df['Models'], df['Accuracy'])\n",
        "plt.title('Model Accuracy Scores')\n",
        "plt.show()\n",
        "# %%\n",
        "sns.barplot(df['Models'], df['PrecisionScore'])\n",
        "plt.title('Model Precision Scores')\n",
        "plt.show()\n",
        "# %%\n",
        "sns.barplot(df['Models'], df['RecallScore'])\n",
        "plt.title('Model Recall Scores')\n",
        "plt.show()"
      ],
      "execution_count": 52,
      "outputs": [
        {
          "output_type": "stream",
          "text": [
            "/usr/local/lib/python3.7/dist-packages/seaborn/_decorators.py:43: FutureWarning: Pass the following variables as keyword args: x, y. From version 0.12, the only valid positional argument will be `data`, and passing other arguments without an explicit keyword will result in an error or misinterpretation.\n",
            "  FutureWarning\n"
          ],
          "name": "stderr"
        },
        {
          "output_type": "display_data",
          "data": {
            "image/png": "[encoded data removed]",
            "text/plain": [
              "<Figure size 432x288 with 1 Axes>"
            ]
          },
          "metadata": {
            "tags": [],
            "needs_background": "light"
          }
        },
        {
          "output_type": "stream",
          "text": [
            "/usr/local/lib/python3.7/dist-packages/seaborn/_decorators.py:43: FutureWarning: Pass the following variables as keyword args: x, y. From version 0.12, the only valid positional argument will be `data`, and passing other arguments without an explicit keyword will result in an error or misinterpretation.\n",
            "  FutureWarning\n"
          ],
          "name": "stderr"
        },
        {
          "output_type": "display_data",
          "data": {
            "image/png": "[encoded data removed]",
            "text/plain": [
              "<Figure size 432x288 with 1 Axes>"
            ]
          },
          "metadata": {
            "tags": [],
            "needs_background": "light"
          }
        },
        {
          "output_type": "stream",
          "text": [
            "/usr/local/lib/python3.7/dist-packages/seaborn/_decorators.py:43: FutureWarning: Pass the following variables as keyword args: x, y. From version 0.12, the only valid positional argument will be `data`, and passing other arguments without an explicit keyword will result in an error or misinterpretation.\n",
            "  FutureWarning\n"
          ],
          "name": "stderr"
        },
        {
          "output_type": "display_data",
          "data": {
            "image/png": "[encoded data removed]",
            "text/plain": [
              "<Figure size 432x288 with 1 Axes>"
            ]
          },
          "metadata": {
            "tags": [],
            "needs_background": "light"
          }
        }
      ]
    }
  ]
}