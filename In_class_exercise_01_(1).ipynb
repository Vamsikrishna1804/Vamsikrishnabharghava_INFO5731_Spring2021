{
  "nbformat": 4,
  "nbformat_minor": 0,
  "metadata": {
    "colab": {
      "name": "In_class_exercise_01 (1).ipynb",
      "provenance": [],
      "collapsed_sections": [],
      "include_colab_link": true
    },
    "kernelspec": {
      "display_name": "Python 3",
      "language": "python",
      "name": "python3"
    },
    "language_info": {
      "codemirror_mode": {
        "name": "ipython",
        "version": 3
      },
      "file_extension": ".py",
      "mimetype": "text/x-python",
      "name": "python",
      "nbconvert_exporter": "python",
      "pygments_lexer": "ipython3",
      "version": "3.7.4"
    }
  },
  "cells": [
    {
      "cell_type": "markdown",
      "metadata": {
        "id": "view-in-github",
        "colab_type": "text"
      },
      "source": [
        "<a href=\"https://colab.research.google.com/github/Vamsikrishna1804/Vamsikrishnabharghava_INFO5731_Spring2021/blob/main/In_class_exercise_01_(1).ipynb\" target=\"_parent\"><img src=\"https://colab.research.google.com/assets/colab-badge.svg\" alt=\"Open In Colab\"/></a>"
      ]
    },
    {
      "cell_type": "markdown",
      "metadata": {
        "id": "DymRJbxDBCnf"
      },
      "source": [
        "# **The first In-class-exercise (1/19/2021, 20 points in total)**"
      ]
    },
    {
      "cell_type": "markdown",
      "metadata": {
        "id": "03jb4GZsBkBS"
      },
      "source": [
        "(1) Write a Python program to calculate the length of a string. (2 points)"
      ]
    },
    {
      "cell_type": "code",
      "metadata": {
        "id": "YaGLbSHHB8Ej",
        "colab": {
          "base_uri": "https://localhost:8080/"
        },
        "outputId": "5b322b9b-8445-4889-938f-57ad5f626504"
      },
      "source": [
        "# write your answer here\n",
        "string1= input(\"Please enter a string for which length value to be calculated:\")\n",
        "print(len(string1))"
      ],
      "execution_count": 69,
      "outputs": [
        {
          "output_type": "stream",
          "text": [
            "Please enter a string for which length value to be calculated:Vamsi\n",
            "5\n"
          ],
          "name": "stdout"
        }
      ]
    },
    {
      "cell_type": "markdown",
      "metadata": {
        "id": "jJDe71iLB616"
      },
      "source": [
        "(2) Write a Python program to count the number of characters in a string. (2 points)\n",
        "\n",
        "Sample String : 'google.com‘, \n",
        "\n",
        "Expected Result : {'o': 3, 'g': 2, '.': 1, 'e': 1, 'l': 1, 'm': 1, 'c': 1}"
      ]
    },
    {
      "cell_type": "code",
      "metadata": {
        "id": "MtKskTzbCLaU",
        "colab": {
          "base_uri": "https://localhost:8080/"
        },
        "outputId": "25f509aa-492d-43bc-94fc-28f69f3cf5bc"
      },
      "source": [
        "# write your answer here\n",
        "import operator\n",
        "string3=input(\"enter the string:\")\n",
        "def frequency_char(string3):\n",
        "  dict1={}\n",
        "  for i in string3:\n",
        "    keys=dict1.keys()\n",
        "    if i in keys:\n",
        "      dict1[i]+=1\n",
        "    else:\n",
        "     dict1[i]=1\n",
        "  return dict1\n",
        "dic1=frequency_char(string3)\n",
        "sortdic=sorted(dic1.items(),key=operator.itemgetter(1),reverse=True)\n",
        "print(\"number of charecters in a string\",dict(sortdic))\n",
        "\n"
      ],
      "execution_count": 75,
      "outputs": [
        {
          "output_type": "stream",
          "text": [
            "enter the string:google.com\n",
            "number of charecters in a string {'o': 3, 'g': 2, 'l': 1, 'e': 1, '.': 1, 'c': 1, 'm': 1}\n"
          ],
          "name": "stdout"
        }
      ]
    },
    {
      "cell_type": "markdown",
      "metadata": {
        "id": "55W9AMdXCSpV"
      },
      "source": [
        "(3) Write a Python program to sum all the items in a list. (2 points)"
      ]
    },
    {
      "cell_type": "code",
      "metadata": {
        "id": "I57NXsauCec2",
        "colab": {
          "base_uri": "https://localhost:8080/"
        },
        "outputId": "757ac3e7-810e-45f1-8651-97f6b8e32f16"
      },
      "source": [
        "# write your answer here\n",
        "l=int(input(\"enter the number of items in a list:\"))\n",
        "list1=[]\n",
        "for i in range(l):\n",
        "  txt=\"enter the {} value:\"\n",
        "  a=int(input(txt.format(i+1)))\n",
        "  list1.append(a)\n",
        "print(sum(list1))"
      ],
      "execution_count": 80,
      "outputs": [
        {
          "output_type": "stream",
          "text": [
            "enter the number of items in a list:6\n",
            "enter the 1 value:2\n",
            "enter the 2 value:3\n",
            "enter the 3 value:6\n",
            "enter the 4 value:8\n",
            "enter the 5 value:9\n",
            "enter the 6 value:7\n",
            "35\n"
          ],
          "name": "stdout"
        }
      ]
    },
    {
      "cell_type": "markdown",
      "metadata": {
        "id": "4ulBZ6yhCi9F"
      },
      "source": [
        "(4) Write a Python program to get a string from a given string where all occurrences of its first char have been changed to '\\$', except the first char itself. (2 points)\n",
        "\n",
        "Sample String : 'restart‘, \n",
        "\n",
        "Expected Result : 'resta\\$t'"
      ]
    },
    {
      "cell_type": "code",
      "metadata": {
        "id": "Fj0XhwbBCw2o",
        "colab": {
          "base_uri": "https://localhost:8080/"
        },
        "outputId": "dd52c583-9fd0-4833-9165-85aa78692322"
      },
      "source": [
        "# write your answer here\n",
        "string2=str(input(\"enter the string:\"))\n",
        "def replace_char(string2):\n",
        "  ch=string2[0]\n",
        "  string2=string2.replace(ch,'$')\n",
        "  string2=ch+string2[1:]\n",
        "  return string2\n",
        "print(\"replaced string:\", replace_char(string2))"
      ],
      "execution_count": 86,
      "outputs": [
        {
          "output_type": "stream",
          "text": [
            "enter the string:annapurna\n",
            "replaced string: ann$purn$\n"
          ],
          "name": "stdout"
        }
      ]
    },
    {
      "cell_type": "markdown",
      "metadata": {
        "id": "_bIP7s1MCzue"
      },
      "source": [
        "(5) Write a program with python which could accept two parameter a and b to calculate and output the result of S, where \n",
        "\n",
        "$\\ S=3.14*(1+a/b)^3$ (3 points)\n",
        "\n"
      ]
    },
    {
      "cell_type": "code",
      "metadata": {
        "id": "w79QilHXD3Mg",
        "colab": {
          "base_uri": "https://localhost:8080/"
        },
        "outputId": "d2e44d3a-f704-4b12-e540-8542166a1c83"
      },
      "source": [
        "# write your answer here\n",
        "\n",
        "a=float(input(\"enter the value of a\"))\n",
        "b=float(input('enter the value of b'))\n",
        "if a>b and b!=0:\n",
        "  s=3.14* pow(1+a/b,3)\n",
        "  print(s)\n",
        "else:\n",
        "  print(\"error value\")\n",
        "\n",
        "\n"
      ],
      "execution_count": 89,
      "outputs": [
        {
          "output_type": "stream",
          "text": [
            "enter the value of a100\n",
            "enter the value of b50\n",
            "84.78\n"
          ],
          "name": "stdout"
        }
      ]
    },
    {
      "cell_type": "markdown",
      "metadata": {
        "id": "xCa2bK9aD4Q3"
      },
      "source": [
        "(6) Write a Python program to concatenate following dictionaries to create a new one. (3 points)\n",
        "\n",
        "Sample Dictionary : dic1={1:10, 2:20}, dic2={3:30, 4:40}, dic3={5:50,6:60}, \n",
        "\n",
        "Expected Result : {1: 10, 2: 20, 3: 30, 4: 40, 5: 50, 6: 60}\n"
      ]
    },
    {
      "cell_type": "code",
      "metadata": {
        "id": "_z4aLqAbEET1",
        "colab": {
          "base_uri": "https://localhost:8080/"
        },
        "outputId": "40300934-39c0-41c2-cb27-9fa89ca61929"
      },
      "source": [
        "# write your answer here\n",
        "dic1={1:10,2:20}\n",
        "dic2={3:30,4:40}\n",
        "dic3={5:50,6:60}\n",
        "dic4={**dic1,**dic2,**dic3}\n",
        "print(dic4)"
      ],
      "execution_count": 91,
      "outputs": [
        {
          "output_type": "stream",
          "text": [
            "{1: 10, 2: 20, 3: 30, 4: 40, 5: 50, 6: 60}\n"
          ],
          "name": "stdout"
        }
      ]
    },
    {
      "cell_type": "markdown",
      "metadata": {
        "id": "0v48Vqa7FrQh"
      },
      "source": [
        "(7) Write a Python program to check whether an element exists within a tuple. (3 points)"
      ]
    },
    {
      "cell_type": "code",
      "metadata": {
        "id": "7WEmgq-DF2P1",
        "colab": {
          "base_uri": "https://localhost:8080/"
        },
        "outputId": "29519569-fec3-42c3-a23c-ba95a5980012"
      },
      "source": [
        "# write your answer here\n",
        "\n",
        "tup=int(input(\"enter the number of elements:\"))\n",
        "list1=[]\n",
        "for i in range(tup):\n",
        "  txt=\"enter the {} tuple value:\"\n",
        "  a=input(txt.format(i+1))\n",
        "  list1.append(a)\n",
        "tup1=tuple(list1)\n",
        "x= input(\"enter the value which need to check in Tuple:\")\n",
        "if x in tup1:\n",
        "  print(\"Value Exists\")\n",
        "else:\n",
        "  print(\"Value does not exist\")\n"
      ],
      "execution_count": 92,
      "outputs": [
        {
          "output_type": "stream",
          "text": [
            "enter the number of elements:5\n",
            "enter the 1 tuple value:'apple'\n",
            "enter the 2 tuple value:'banana'\n",
            "enter the 3 tuple value:'Mango'\n",
            "enter the 4 tuple value:5\n",
            "enter the 5 tuple value:4\n",
            "enter the value which need to check in Tuple:'Mango'\n",
            "Value Exists\n"
          ],
          "name": "stdout"
        }
      ]
    },
    {
      "cell_type": "markdown",
      "metadata": {
        "id": "vD5PYLMuGga_"
      },
      "source": [
        "(8) Write a Python program to find maximum and the minimum value in a set. (3 points)"
      ]
    },
    {
      "cell_type": "code",
      "metadata": {
        "id": "t0D5kdJUGjjw",
        "colab": {
          "base_uri": "https://localhost:8080/"
        },
        "outputId": "21298201-37bb-40d9-cdca-ab04ab1687f9"
      },
      "source": [
        "# write your answer here\n",
        "s=int(input(\"enter the number of elements in a set:\"))\n",
        "l1=[]\n",
        "li={}\n",
        "for i in range(s):\n",
        "  txt=\"enter the {} value\"\n",
        "  a=int(input(txt.format(i+1)))\n",
        "  l1.append(a)\n",
        "li=set(l1)\n",
        "print(max(li))\n",
        "print(min(li))"
      ],
      "execution_count": 54,
      "outputs": [
        {
          "output_type": "stream",
          "text": [
            "enter the number of elements in a set:4\n",
            "enter the 1 value1\n",
            "enter the 2 value2\n",
            "enter the 3 value3\n",
            "enter the 4 value5\n",
            "5\n",
            "1\n"
          ],
          "name": "stdout"
        }
      ]
    },
    {
      "cell_type": "markdown",
      "metadata": {
        "id": "uHkd-y5VhVWC"
      },
      "source": [
        "(9) Write a Python program to randomly divide the students in this class into five groups for term projects, each group should have at least 3 students but no more than 5 students (including 5). Here is the students list: (3 points for extra)\n",
        "\n",
        "studnet_list = ['vmb0067','pc0353','snd0097','yye0005','sg0940','bk0301','rak0120','rrk0058','spk0057','vl0135','nm0547','pn0159',\n",
        "                'msp0174','dd0420','ds0761','rs0850','ss1995','at0739','at0768','mv0299','tv0119','dy0091']"
      ]
    },
    {
      "cell_type": "code",
      "metadata": {
        "id": "3iGbmcOBhTwy"
      },
      "source": [
        ""
      ],
      "execution_count": 96,
      "outputs": []
    },
    {
      "cell_type": "code",
      "metadata": {
        "id": "ZBYI9YEMee85"
      },
      "source": [
        ""
      ],
      "execution_count": null,
      "outputs": []
    }
  ]
}