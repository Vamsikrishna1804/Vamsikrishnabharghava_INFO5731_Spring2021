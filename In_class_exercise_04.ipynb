{
  "nbformat": 4,
  "nbformat_minor": 0,
  "metadata": {
    "colab": {
      "name": "In_class_exercise_04.ipynb",
      "provenance": [],
      "collapsed_sections": [],
      "toc_visible": true,
      "include_colab_link": true
    },
    "kernelspec": {
      "display_name": "Python 3",
      "language": "python",
      "name": "python3"
    },
    "language_info": {
      "codemirror_mode": {
        "name": "ipython",
        "version": 3
      },
      "file_extension": ".py",
      "mimetype": "text/x-python",
      "name": "python",
      "nbconvert_exporter": "python",
      "pygments_lexer": "ipython3",
      "version": "3.8.5"
    }
  },
  "cells": [
    {
      "cell_type": "markdown",
      "metadata": {
        "id": "view-in-github",
        "colab_type": "text"
      },
      "source": [
        "<a href=\"https://colab.research.google.com/github/Vamsikrishna1804/Vamsikrishnabharghava_INFO5731_Spring2021/blob/main/In_class_exercise_04.ipynb\" target=\"_parent\"><img src=\"https://colab.research.google.com/assets/colab-badge.svg\" alt=\"Open In Colab\"/></a>"
      ]
    },
    {
      "cell_type": "markdown",
      "metadata": {
        "id": "EuX00KHNeSpw"
      },
      "source": [
        "# **The fourth in-class-exercise (20 points in total, 2/9/2021)**"
      ]
    },
    {
      "cell_type": "markdown",
      "metadata": {
        "id": "s-vTOb03hG1f"
      },
      "source": [
        "# 1. Text Data Preprocessing\n",
        "\n",
        "Here is a [legal case](https://github.com/unt-iialab/info5731_spring2021/blob/main/class_exercises/01-05-1%20%20Adams%20v%20Tanner.txt) we collected from westlaw, please follow the steps we mentioned in lesson 5 to clean the data:\n",
        "\n",
        "\n",
        "\n",
        "## 1.1 Basic feature extraction using text data (4 points)\n",
        "\n",
        "*   Number of sentences\n",
        "*   Number of words\n",
        "*   Number of characters\n",
        "*   Average word length\n",
        "*   Number of stopwords\n",
        "*   Number of special characters\n",
        "*   Number of numerics\n",
        "*   Number of uppercase words\n",
        "\n",
        "## 1.2 Basic Text Pre-processing of text data (4 points)\n",
        "\n",
        "*   Lower casing\n",
        "*   Punctuation removal\n",
        "*   Stopwords removal\n",
        "*   Frequent words removal\n",
        "*   Rare words removal\n",
        "*   Spelling correction\n",
        "*   Tokenization\n",
        "*   Stemming\n",
        "*   Lemmatization\n",
        "\n",
        "## 1.3 Save all the **clean sentences** to a **csv file** (one column, each raw is a sentence) after finishing all the steps above. (4 points)\n",
        "\n",
        "\n",
        "## 1.4 Advance Text Processing (Extra credit: 4 points)\n",
        "\n",
        "*   Calculate the term frequency of all the terms.\n",
        "*   Print out top 10 1-gram, top 10 2-grams, and top 10 3-grams terms as features.\n"
      ]
    },
    {
      "cell_type": "code",
      "metadata": {
        "colab": {
          "base_uri": "https://localhost:8080/"
        },
        "id": "3qZW9wfEz1Wq",
        "outputId": "c10b12b5-60fd-4de0-b4bf-1332a789a52d"
      },
      "source": [
        "#Text Data collection\r\n",
        "import urllib.request\r\n",
        "import re\r\n",
        "import requests\r\n",
        "import pandas as pd\r\n",
        "text_data=[]\r\n",
        "url= urllib.request.urlopen(\"https://raw.githubusercontent.com/unt-iialab/info5731_spring2021/main/class_exercises/01-05-1%20%20Adams%20v%20Tanner.txt\")\r\n",
        "for text in url:\r\n",
        "  decode_text=text.decode(\"utf-8\")\r\n",
        "  clean_text=decode_text.replace('\\r\\n','')\r\n",
        "  if clean_text:\r\n",
        "    text_data.append(clean_text)\r\n",
        "\r\n",
        "df=pd.DataFrame(text_data,columns=['Text Data'])\r\n",
        "print(df)\r\n",
        "\r\n"
      ],
      "execution_count": 64,
      "outputs": [
        {
          "output_type": "stream",
          "text": [
            "                                             Text Data\n",
            "0                                           5 Ala. 740\n",
            "1                            Supreme Court of Alabama.\n",
            "2                                                ADAMS\n",
            "3                                                   v.\n",
            "4                                   TANNER AND HORTON.\n",
            "..                                                 ...\n",
            "143            There are no Filings for this citation.\n",
            "144                                 Negative Treatment\n",
            "145  There are no Negative Treatment results for th...\n",
            "146                                            History\n",
            "147    There are no History results for this citation.\n",
            "\n",
            "[148 rows x 1 columns]\n"
          ],
          "name": "stdout"
        }
      ]
    },
    {
      "cell_type": "code",
      "metadata": {
        "id": "ataeRpgc5IlZ"
      },
      "source": [
        "#1.3 Save all the clean sentences to a csv file (one column, each raw is a sentence) after finishing all the steps above\r\n",
        "df.to_csv ('cleanfile.csv')"
      ],
      "execution_count": 98,
      "outputs": []
    },
    {
      "cell_type": "code",
      "metadata": {
        "id": "vR0L3_CreM_A",
        "colab": {
          "base_uri": "https://localhost:8080/"
        },
        "outputId": "13383f06-e2c9-4e22-8410-6061584aab7c"
      },
      "source": [
        "# Write your code here\n",
        "#Number of sentences\n",
        "df['Number Of Sentences']=df['Text Data'].apply(lambda x: len(str(x).split(\".\")))\n",
        "print(df)\n"
      ],
      "execution_count": 65,
      "outputs": [
        {
          "output_type": "stream",
          "text": [
            "                                             Text Data  Number Of Sentences\n",
            "0                                           5 Ala. 740                    2\n",
            "1                            Supreme Court of Alabama.                    2\n",
            "2                                                ADAMS                    1\n",
            "3                                                   v.                    2\n",
            "4                                   TANNER AND HORTON.                    2\n",
            "..                                                 ...                  ...\n",
            "143            There are no Filings for this citation.                    2\n",
            "144                                 Negative Treatment                    1\n",
            "145  There are no Negative Treatment results for th...                    2\n",
            "146                                            History                    1\n",
            "147    There are no History results for this citation.                    2\n",
            "\n",
            "[148 rows x 2 columns]\n"
          ],
          "name": "stdout"
        }
      ]
    },
    {
      "cell_type": "code",
      "metadata": {
        "colab": {
          "base_uri": "https://localhost:8080/"
        },
        "id": "RBi9PcwAG_p4",
        "outputId": "d03fcf29-035a-4501-ee7b-cb127765fb04"
      },
      "source": [
        "#Number of words:\r\n",
        "df['Number Of Words']=df['Text Data'].apply(lambda x: len(str(x).split(\" \")))\r\n",
        "print(df)"
      ],
      "execution_count": 66,
      "outputs": [
        {
          "output_type": "stream",
          "text": [
            "                                             Text Data  ...  Number Of Words\n",
            "0                                           5 Ala. 740  ...                3\n",
            "1                            Supreme Court of Alabama.  ...                4\n",
            "2                                                ADAMS  ...                1\n",
            "3                                                   v.  ...                1\n",
            "4                                   TANNER AND HORTON.  ...                3\n",
            "..                                                 ...  ...              ...\n",
            "143            There are no Filings for this citation.  ...                7\n",
            "144                                 Negative Treatment  ...                2\n",
            "145  There are no Negative Treatment results for th...  ...                9\n",
            "146                                            History  ...                1\n",
            "147    There are no History results for this citation.  ...                8\n",
            "\n",
            "[148 rows x 3 columns]\n"
          ],
          "name": "stdout"
        }
      ]
    },
    {
      "cell_type": "code",
      "metadata": {
        "colab": {
          "base_uri": "https://localhost:8080/",
          "height": 406
        },
        "id": "ZX9XwwL6HNLB",
        "outputId": "9c1915af-15aa-4980-bc81-ed3925ae2c90"
      },
      "source": [
        "#Number of Characters:\r\n",
        "df['Number of Characters']=df['Text Data'].str.len()\r\n",
        "df"
      ],
      "execution_count": 67,
      "outputs": [
        {
          "output_type": "execute_result",
          "data": {
            "text/html": [
              "<div>\n",
              "<style scoped>\n",
              "    .dataframe tbody tr th:only-of-type {\n",
              "        vertical-align: middle;\n",
              "    }\n",
              "\n",
              "    .dataframe tbody tr th {\n",
              "        vertical-align: top;\n",
              "    }\n",
              "\n",
              "    .dataframe thead th {\n",
              "        text-align: right;\n",
              "    }\n",
              "</style>\n",
              "<table border=\"1\" class=\"dataframe\">\n",
              "  <thead>\n",
              "    <tr style=\"text-align: right;\">\n",
              "      <th></th>\n",
              "      <th>Text Data</th>\n",
              "      <th>Number Of Sentences</th>\n",
              "      <th>Number Of Words</th>\n",
              "      <th>Number of Characters</th>\n",
              "    </tr>\n",
              "  </thead>\n",
              "  <tbody>\n",
              "    <tr>\n",
              "      <th>0</th>\n",
              "      <td>5 Ala. 740</td>\n",
              "      <td>2</td>\n",
              "      <td>3</td>\n",
              "      <td>10</td>\n",
              "    </tr>\n",
              "    <tr>\n",
              "      <th>1</th>\n",
              "      <td>Supreme Court of Alabama.</td>\n",
              "      <td>2</td>\n",
              "      <td>4</td>\n",
              "      <td>25</td>\n",
              "    </tr>\n",
              "    <tr>\n",
              "      <th>2</th>\n",
              "      <td>ADAMS</td>\n",
              "      <td>1</td>\n",
              "      <td>1</td>\n",
              "      <td>5</td>\n",
              "    </tr>\n",
              "    <tr>\n",
              "      <th>3</th>\n",
              "      <td>v.</td>\n",
              "      <td>2</td>\n",
              "      <td>1</td>\n",
              "      <td>2</td>\n",
              "    </tr>\n",
              "    <tr>\n",
              "      <th>4</th>\n",
              "      <td>TANNER AND HORTON.</td>\n",
              "      <td>2</td>\n",
              "      <td>3</td>\n",
              "      <td>18</td>\n",
              "    </tr>\n",
              "    <tr>\n",
              "      <th>...</th>\n",
              "      <td>...</td>\n",
              "      <td>...</td>\n",
              "      <td>...</td>\n",
              "      <td>...</td>\n",
              "    </tr>\n",
              "    <tr>\n",
              "      <th>143</th>\n",
              "      <td>There are no Filings for this citation.</td>\n",
              "      <td>2</td>\n",
              "      <td>7</td>\n",
              "      <td>39</td>\n",
              "    </tr>\n",
              "    <tr>\n",
              "      <th>144</th>\n",
              "      <td>Negative Treatment</td>\n",
              "      <td>1</td>\n",
              "      <td>2</td>\n",
              "      <td>18</td>\n",
              "    </tr>\n",
              "    <tr>\n",
              "      <th>145</th>\n",
              "      <td>There are no Negative Treatment results for th...</td>\n",
              "      <td>2</td>\n",
              "      <td>9</td>\n",
              "      <td>58</td>\n",
              "    </tr>\n",
              "    <tr>\n",
              "      <th>146</th>\n",
              "      <td>History</td>\n",
              "      <td>1</td>\n",
              "      <td>1</td>\n",
              "      <td>7</td>\n",
              "    </tr>\n",
              "    <tr>\n",
              "      <th>147</th>\n",
              "      <td>There are no History results for this citation.</td>\n",
              "      <td>2</td>\n",
              "      <td>8</td>\n",
              "      <td>47</td>\n",
              "    </tr>\n",
              "  </tbody>\n",
              "</table>\n",
              "<p>148 rows × 4 columns</p>\n",
              "</div>"
            ],
            "text/plain": [
              "                                             Text Data  ...  Number of Characters\n",
              "0                                           5 Ala. 740  ...                    10\n",
              "1                            Supreme Court of Alabama.  ...                    25\n",
              "2                                                ADAMS  ...                     5\n",
              "3                                                   v.  ...                     2\n",
              "4                                   TANNER AND HORTON.  ...                    18\n",
              "..                                                 ...  ...                   ...\n",
              "143            There are no Filings for this citation.  ...                    39\n",
              "144                                 Negative Treatment  ...                    18\n",
              "145  There are no Negative Treatment results for th...  ...                    58\n",
              "146                                            History  ...                     7\n",
              "147    There are no History results for this citation.  ...                    47\n",
              "\n",
              "[148 rows x 4 columns]"
            ]
          },
          "metadata": {
            "tags": []
          },
          "execution_count": 67
        }
      ]
    },
    {
      "cell_type": "code",
      "metadata": {
        "colab": {
          "base_uri": "https://localhost:8080/"
        },
        "id": "TMs2__pGHr-z",
        "outputId": "87043795-fc37-4131-df40-ed6d2ee96e11"
      },
      "source": [
        "#Average word length\r\n",
        "def Avg_word(sentence):\r\n",
        "  Words=sentence.split()\r\n",
        "  if len(Words) != 0:\r\n",
        "    return(sum(len(word) for word in Words)/len(Words))\r\n",
        "  else:\r\n",
        "    return None\r\n",
        "  return (sum(len(word) for word in Words)/len(Words))\r\n",
        "df['Average word length']=df['Text Data'].apply(lambda x: Avg_word(x))\r\n",
        "print(df)"
      ],
      "execution_count": 68,
      "outputs": [
        {
          "output_type": "stream",
          "text": [
            "                                             Text Data  ...  Average word length\n",
            "0                                           5 Ala. 740  ...             2.666667\n",
            "1                            Supreme Court of Alabama.  ...             5.500000\n",
            "2                                                ADAMS  ...             5.000000\n",
            "3                                                   v.  ...             2.000000\n",
            "4                                   TANNER AND HORTON.  ...             5.333333\n",
            "..                                                 ...  ...                  ...\n",
            "143            There are no Filings for this citation.  ...             4.714286\n",
            "144                                 Negative Treatment  ...             8.500000\n",
            "145  There are no Negative Treatment results for th...  ...             5.555556\n",
            "146                                            History  ...             7.000000\n",
            "147    There are no History results for this citation.  ...             5.000000\n",
            "\n",
            "[148 rows x 5 columns]\n"
          ],
          "name": "stdout"
        }
      ]
    },
    {
      "cell_type": "code",
      "metadata": {
        "colab": {
          "base_uri": "https://localhost:8080/"
        },
        "id": "HyvwdlwMKFUI",
        "outputId": "024b3240-ba66-4c13-ba81-82e35ccdb84d"
      },
      "source": [
        "#Number of stopwords\r\n",
        "from nltk.corpus import stopwords\r\n",
        "import nltk\r\n",
        "nltk.download('stopwords')\r\n",
        "stop=stopwords.words('english')\r\n",
        "\r\n",
        "df['stopwords']=df['Text Data'].apply(lambda x: len([x for x in x.split() if x in stop]))\r\n",
        "print(df)"
      ],
      "execution_count": 69,
      "outputs": [
        {
          "output_type": "stream",
          "text": [
            "[nltk_data] Downloading package stopwords to /root/nltk_data...\n",
            "[nltk_data]   Package stopwords is already up-to-date!\n",
            "                                             Text Data  ...  stopwords\n",
            "0                                           5 Ala. 740  ...          0\n",
            "1                            Supreme Court of Alabama.  ...          1\n",
            "2                                                ADAMS  ...          0\n",
            "3                                                   v.  ...          0\n",
            "4                                   TANNER AND HORTON.  ...          0\n",
            "..                                                 ...  ...        ...\n",
            "143            There are no Filings for this citation.  ...          4\n",
            "144                                 Negative Treatment  ...          0\n",
            "145  There are no Negative Treatment results for th...  ...          4\n",
            "146                                            History  ...          0\n",
            "147    There are no History results for this citation.  ...          4\n",
            "\n",
            "[148 rows x 6 columns]\n"
          ],
          "name": "stdout"
        }
      ]
    },
    {
      "cell_type": "code",
      "metadata": {
        "colab": {
          "base_uri": "https://localhost:8080/"
        },
        "id": "Djnzi7hfLco_",
        "outputId": "d490fcdd-3e31-49c7-e330-966088b3428d"
      },
      "source": [
        "#Number of special characters\r\n",
        "\r\n",
        "def run(string): \r\n",
        "  a=re.findall(r'[^\\w+\\d+]',string)\r\n",
        "  return len(a)\r\n",
        "df['Special characters'] = df['Text Data'].apply(lambda y: run(y))\r\n",
        "print(df)"
      ],
      "execution_count": 70,
      "outputs": [
        {
          "output_type": "stream",
          "text": [
            "                                             Text Data  ...  Special characters\n",
            "0                                           5 Ala. 740  ...                   3\n",
            "1                            Supreme Court of Alabama.  ...                   4\n",
            "2                                                ADAMS  ...                   0\n",
            "3                                                   v.  ...                   1\n",
            "4                                   TANNER AND HORTON.  ...                   3\n",
            "..                                                 ...  ...                 ...\n",
            "143            There are no Filings for this citation.  ...                   7\n",
            "144                                 Negative Treatment  ...                   1\n",
            "145  There are no Negative Treatment results for th...  ...                   9\n",
            "146                                            History  ...                   0\n",
            "147    There are no History results for this citation.  ...                   8\n",
            "\n",
            "[148 rows x 7 columns]\n"
          ],
          "name": "stdout"
        }
      ]
    },
    {
      "cell_type": "code",
      "metadata": {
        "colab": {
          "base_uri": "https://localhost:8080/"
        },
        "id": "XkRk8tRCfzpg",
        "outputId": "5314792d-88ed-4293-9ed4-6fbed539e4b8"
      },
      "source": [
        "#Removal of Stop Words\r\n",
        "\r\n",
        "from nltk.corpus import stopwords\r\n",
        "stop=stopwords.words('english')\r\n",
        "df['Removal of Stop words']=df['Text Data'].apply(lambda x: \" \".join(x for x in x.split() if x not in stop))\r\n",
        "print(df)"
      ],
      "execution_count": 73,
      "outputs": [
        {
          "output_type": "stream",
          "text": [
            "                                      Text Data  ...                       Removal of Stop words\n",
            "0                                    5 Ala. 740  ...                                  5 Ala. 740\n",
            "1                        Supreme Court Alabama.  ...                      Supreme Court Alabama.\n",
            "2                                         ADAMS  ...                                       ADAMS\n",
            "3                                            v.  ...                                          v.\n",
            "4                            TANNER AND HORTON.  ...                          TANNER AND HORTON.\n",
            "..                                          ...  ...                                         ...\n",
            "143                     There Filings citation.  ...                     There Filings citation.\n",
            "144                          Negative Treatment  ...                          Negative Treatment\n",
            "145  There Negative Treatment results citation.  ...  There Negative Treatment results citation.\n",
            "146                                     History  ...                                     History\n",
            "147             There History results citation.  ...             There History results citation.\n",
            "\n",
            "[148 rows x 8 columns]\n"
          ],
          "name": "stdout"
        }
      ]
    },
    {
      "cell_type": "code",
      "metadata": {
        "colab": {
          "base_uri": "https://localhost:8080/"
        },
        "id": "NB5fbQ-7lKr3",
        "outputId": "411d6fa8-0857-4246-9dd4-6d9e1c4f32c0"
      },
      "source": [
        "#Rare Words Removal\r\n",
        "rare = pd.Series(' '.join(df['Text Data']).split()).value_counts()[-10:]\r\n",
        "print(rare)\r\n",
        "rare = list(rare.index)\r\n",
        "df['Rare words removal'] = df['Text Data'].apply(lambda x: \" \".join(x for x in x.split() if x not in rare))\r\n",
        "print(df)"
      ],
      "execution_count": 74,
      "outputs": [
        {
          "output_type": "stream",
          "text": [
            "thereafter,        1\n",
            "unquestionable,    1\n",
            "Crops              1\n",
            "meant              1\n",
            "WAIVER             1\n",
            "cut                1\n",
            "original           1\n",
            "cites              1\n",
            "May                1\n",
            "cutting            1\n",
            "dtype: int64\n",
            "                                      Text Data  ...                          Rare words removal\n",
            "0                                    5 Ala. 740  ...                                  5 Ala. 740\n",
            "1                        Supreme Court Alabama.  ...                      Supreme Court Alabama.\n",
            "2                                         ADAMS  ...                                       ADAMS\n",
            "3                                            v.  ...                                          v.\n",
            "4                            TANNER AND HORTON.  ...                          TANNER AND HORTON.\n",
            "..                                          ...  ...                                         ...\n",
            "143                     There Filings citation.  ...                     There Filings citation.\n",
            "144                          Negative Treatment  ...                          Negative Treatment\n",
            "145  There Negative Treatment results citation.  ...  There Negative Treatment results citation.\n",
            "146                                     History  ...                                     History\n",
            "147             There History results citation.  ...             There History results citation.\n",
            "\n",
            "[148 rows x 9 columns]\n"
          ],
          "name": "stdout"
        }
      ]
    },
    {
      "cell_type": "code",
      "metadata": {
        "colab": {
          "base_uri": "https://localhost:8080/"
        },
        "id": "HqaW8ADzlulf",
        "outputId": "dd3c097b-4652-4a0d-82b7-735db111fdc4"
      },
      "source": [
        "#Frequent words removal\r\n",
        "\r\n",
        "frequent_words = pd.Series(' '.join(df['Text Data']).split()).value_counts()[:10]\r\n",
        "print(frequent_words)\r\n",
        "frequent_words= list(frequent_words.index)\r\n",
        "df['Frequent words removal']=df['Text Data'].apply(lambda x: \" \".join(x for x in x.split() if x not in frequent_words))\r\n",
        "print(df)"
      ],
      "execution_count": 78,
      "outputs": [
        {
          "output_type": "stream",
          "text": [
            "execution    36\n",
            "crop         29\n",
            "The          27\n",
            "levy         23\n",
            "v.           22\n",
            "lien         20\n",
            "right        17\n",
            "crop,        15\n",
            "Rep.         15\n",
            "contract     14\n",
            "dtype: int64\n",
            "                                      Text Data  ...                      Frequent words removal\n",
            "0                                    5 Ala. 740  ...                                  5 Ala. 740\n",
            "1                        Supreme Court Alabama.  ...                      Supreme Court Alabama.\n",
            "2                                         ADAMS  ...                                       ADAMS\n",
            "3                                            v.  ...                                            \n",
            "4                            TANNER AND HORTON.  ...                          TANNER AND HORTON.\n",
            "..                                          ...  ...                                         ...\n",
            "143                     There Filings citation.  ...                     There Filings citation.\n",
            "144                          Negative Treatment  ...                          Negative Treatment\n",
            "145  There Negative Treatment results citation.  ...  There Negative Treatment results citation.\n",
            "146                                     History  ...                                     History\n",
            "147             There History results citation.  ...             There History results citation.\n",
            "\n",
            "[148 rows x 10 columns]\n"
          ],
          "name": "stdout"
        }
      ]
    },
    {
      "cell_type": "code",
      "metadata": {
        "id": "ALrb0nSDkLpJ"
      },
      "source": [
        ""
      ],
      "execution_count": null,
      "outputs": []
    },
    {
      "cell_type": "code",
      "metadata": {
        "colab": {
          "base_uri": "https://localhost:8080/"
        },
        "id": "PLi9Mji3hkRf",
        "outputId": "40b7aed8-d3c5-42a2-8732-e9d4710d0e8a"
      },
      "source": [
        "#Removing Punctuations\r\n",
        "def run(string): \r\n",
        "  a=re.findall(r'[.,:]',string)\r\n",
        "  return len(a)\r\n",
        "\r\n",
        "df['Punctuations'] = df['Text Data'].apply(lambda y: run(y))\r\n",
        "print(df.head(10))"
      ],
      "execution_count": 79,
      "outputs": [
        {
          "output_type": "stream",
          "text": [
            "                          Text Data  ...  Punctuations\n",
            "0                        5 Ala. 740  ...             1\n",
            "1            Supreme Court Alabama.  ...             1\n",
            "2                             ADAMS  ...             0\n",
            "3                                v.  ...             1\n",
            "4                TANNER AND HORTON.  ...             1\n",
            "5                  June Term, 1843.  ...             2\n",
            "6                          Synopsis  ...             0\n",
            "7  WRIT Error Circuit Court Sumter.  ...             1\n",
            "8                                    ...             0\n",
            "9                West Headnotes (2)  ...             0\n",
            "\n",
            "[10 rows x 11 columns]\n"
          ],
          "name": "stdout"
        }
      ]
    },
    {
      "cell_type": "code",
      "metadata": {
        "colab": {
          "base_uri": "https://localhost:8080/"
        },
        "id": "lpYX8af3gT0s",
        "outputId": "817346ea-d038-49bc-a6f6-9725eaebe431"
      },
      "source": [
        "#spelling correction\r\n",
        "from textblob import TextBlob\r\n",
        "df['Spelling Correction'] = df['Text Data'].apply(lambda x: str(TextBlob(x).correct()))\r\n",
        "print(df)"
      ],
      "execution_count": 80,
      "outputs": [
        {
          "output_type": "stream",
          "text": [
            "                                      Text Data  ...                          Spelling Correction\n",
            "0                                    5 Ala. 740  ...                                    5 La. 740\n",
            "1                        Supreme Court Alabama.  ...                       Supreme Court Alabama.\n",
            "2                                         ADAMS  ...                                        ADAMS\n",
            "3                                            v.  ...                                           v.\n",
            "4                            TANNER AND HORTON.  ...                           TANNER AND HORTON.\n",
            "..                                          ...  ...                                          ...\n",
            "143                     There Filings citation.  ...                     There Tidings situation.\n",
            "144                          Negative Treatment  ...                           Negative Treatment\n",
            "145  There Negative Treatment results citation.  ...  There Negative Treatment results situation.\n",
            "146                                     History  ...                                      History\n",
            "147             There History results citation.  ...             There History results situation.\n",
            "\n",
            "[148 rows x 12 columns]\n"
          ],
          "name": "stdout"
        }
      ]
    },
    {
      "cell_type": "code",
      "metadata": {
        "colab": {
          "base_uri": "https://localhost:8080/"
        },
        "id": "l9M2PVUCm0mS",
        "outputId": "99590bb8-ce85-4753-f9ae-b6bebf284140"
      },
      "source": [
        "#Tokenization\r\n",
        "\r\n",
        "import nltk\r\n",
        "nltk.download('punkt')\r\n",
        "df['tokenization'] = df['Spelling Correction'].apply(lambda x: TextBlob(x).words)\r\n",
        "print(df)"
      ],
      "execution_count": 81,
      "outputs": [
        {
          "output_type": "stream",
          "text": [
            "[nltk_data] Downloading package punkt to /root/nltk_data...\n",
            "[nltk_data]   Package punkt is already up-to-date!\n",
            "                                      Text Data  ...                                      tokenization\n",
            "0                                    5 Ala. 740  ...                                      [5, La, 740]\n",
            "1                        Supreme Court Alabama.  ...                         [Supreme, Court, Alabama]\n",
            "2                                         ADAMS  ...                                           [ADAMS]\n",
            "3                                            v.  ...                                               [v]\n",
            "4                            TANNER AND HORTON.  ...                             [TANNER, AND, HORTON]\n",
            "..                                          ...  ...                                               ...\n",
            "143                     There Filings citation.  ...                       [There, Tidings, situation]\n",
            "144                          Negative Treatment  ...                             [Negative, Treatment]\n",
            "145  There Negative Treatment results citation.  ...  [There, Negative, Treatment, results, situation]\n",
            "146                                     History  ...                                         [History]\n",
            "147             There History results citation.  ...              [There, History, results, situation]\n",
            "\n",
            "[148 rows x 13 columns]\n"
          ],
          "name": "stdout"
        }
      ]
    },
    {
      "cell_type": "code",
      "metadata": {
        "colab": {
          "base_uri": "https://localhost:8080/"
        },
        "id": "fdWoNbwCne5a",
        "outputId": "54c0b611-7e4c-4d84-b884-a5295c253bff"
      },
      "source": [
        "#stemming\r\n",
        "from nltk.stem import PorterStemmer\r\n",
        "st=PorterStemmer()\r\n",
        "df['stemming']=df['Text Data'][:5].apply(lambda x: \" \".join([st.stem(word) for word in x.split()]))\r\n",
        "print(df)"
      ],
      "execution_count": 84,
      "outputs": [
        {
          "output_type": "stream",
          "text": [
            "                                      Text Data  ...               stemming\n",
            "0                                    5 Ala. 740  ...             5 ala. 740\n",
            "1                        Supreme Court Alabama.  ...  suprem court alabama.\n",
            "2                                         ADAMS  ...                   adam\n",
            "3                                            v.  ...                     v.\n",
            "4                            TANNER AND HORTON.  ...     tanner and horton.\n",
            "..                                          ...  ...                    ...\n",
            "143                     There Filings citation.  ...                    NaN\n",
            "144                          Negative Treatment  ...                    NaN\n",
            "145  There Negative Treatment results citation.  ...                    NaN\n",
            "146                                     History  ...                    NaN\n",
            "147             There History results citation.  ...                    NaN\n",
            "\n",
            "[148 rows x 14 columns]\n"
          ],
          "name": "stdout"
        }
      ]
    },
    {
      "cell_type": "code",
      "metadata": {
        "colab": {
          "base_uri": "https://localhost:8080/"
        },
        "id": "4mwhZueHobhH",
        "outputId": "31ee2a89-bbf6-4744-ca66-99eaf1eb55bc"
      },
      "source": [
        "#Lemitization\r\n",
        "from textblob import Word\r\n",
        "import nltk\r\n",
        "nltk.download('wordnet')\r\n",
        "\r\n",
        "df['Lemmitization']=df['Text Data'].apply(lambda x:\" \".join([Word(word).lemmatize() for word in x.split()]))\r\n",
        "print(df)"
      ],
      "execution_count": 92,
      "outputs": [
        {
          "output_type": "stream",
          "text": [
            "[nltk_data] Downloading package wordnet to /root/nltk_data...\n",
            "[nltk_data]   Package wordnet is already up-to-date!\n",
            "                                      Text Data  ...                              Lemmitization\n",
            "0                                    5 Ala. 740  ...                                 5 Ala. 740\n",
            "1                        Supreme Court Alabama.  ...                     Supreme Court Alabama.\n",
            "2                                         ADAMS  ...                                      ADAMS\n",
            "3                                            v.  ...                                         v.\n",
            "4                            TANNER AND HORTON.  ...                         TANNER AND HORTON.\n",
            "..                                          ...  ...                                        ...\n",
            "143                     There Filings citation.  ...                    There Filings citation.\n",
            "144                          Negative Treatment  ...                         Negative Treatment\n",
            "145  There Negative Treatment results citation.  ...  There Negative Treatment result citation.\n",
            "146                                     History  ...                                    History\n",
            "147             There History results citation.  ...             There History result citation.\n",
            "\n",
            "[148 rows x 15 columns]\n"
          ],
          "name": "stdout"
        }
      ]
    },
    {
      "cell_type": "code",
      "metadata": {
        "colab": {
          "base_uri": "https://localhost:8080/"
        },
        "id": "Is5M4VnjQHuC",
        "outputId": "95120d24-6fa1-4723-a1e9-e9bd27a7a174"
      },
      "source": [
        "#Number of numerics\r\n",
        "df['numerics']=df['Text Data'].apply(lambda x: len([x for x in x.split() if x.isdigit()]))\r\n",
        "print(df)"
      ],
      "execution_count": 93,
      "outputs": [
        {
          "output_type": "stream",
          "text": [
            "                                      Text Data  ...  numerics\n",
            "0                                    5 Ala. 740  ...         2\n",
            "1                        Supreme Court Alabama.  ...         0\n",
            "2                                         ADAMS  ...         0\n",
            "3                                            v.  ...         0\n",
            "4                            TANNER AND HORTON.  ...         0\n",
            "..                                          ...  ...       ...\n",
            "143                     There Filings citation.  ...         0\n",
            "144                          Negative Treatment  ...         0\n",
            "145  There Negative Treatment results citation.  ...         0\n",
            "146                                     History  ...         0\n",
            "147             There History results citation.  ...         0\n",
            "\n",
            "[148 rows x 16 columns]\n"
          ],
          "name": "stdout"
        }
      ]
    },
    {
      "cell_type": "code",
      "metadata": {
        "id": "1xgHAIj8l-gh"
      },
      "source": [
        ""
      ],
      "execution_count": null,
      "outputs": []
    },
    {
      "cell_type": "code",
      "metadata": {
        "colab": {
          "base_uri": "https://localhost:8080/"
        },
        "id": "-N1ruaMFScDT",
        "outputId": "a9db7e3d-45af-4bfe-be40-1fea4c213217"
      },
      "source": [
        "#Number of uppercase words\r\n",
        "df['uppercase']= df['Text Data'].apply(lambda x: len([x for x in x.split() if x.isupper()]))\r\n",
        "print(df)"
      ],
      "execution_count": 94,
      "outputs": [
        {
          "output_type": "stream",
          "text": [
            "                                      Text Data  ...  uppercase\n",
            "0                                    5 Ala. 740  ...          0\n",
            "1                        Supreme Court Alabama.  ...          0\n",
            "2                                         ADAMS  ...          1\n",
            "3                                            v.  ...          0\n",
            "4                            TANNER AND HORTON.  ...          3\n",
            "..                                          ...  ...        ...\n",
            "143                     There Filings citation.  ...          0\n",
            "144                          Negative Treatment  ...          0\n",
            "145  There Negative Treatment results citation.  ...          0\n",
            "146                                     History  ...          0\n",
            "147             There History results citation.  ...          0\n",
            "\n",
            "[148 rows x 17 columns]\n"
          ],
          "name": "stdout"
        }
      ]
    },
    {
      "cell_type": "code",
      "metadata": {
        "colab": {
          "base_uri": "https://localhost:8080/",
          "height": 710
        },
        "id": "-IT6Cm2GTDua",
        "outputId": "a5115a33-fa96-4f4a-e88f-0eaa69db9375"
      },
      "source": [
        "#Lower casing\r\n",
        "df['Text Data'] = df['Text Data'].apply(lambda x: \" \".join(x.lower() for x in x.split()))\r\n",
        "df"
      ],
      "execution_count": 95,
      "outputs": [
        {
          "output_type": "execute_result",
          "data": {
            "text/html": [
              "<div>\n",
              "<style scoped>\n",
              "    .dataframe tbody tr th:only-of-type {\n",
              "        vertical-align: middle;\n",
              "    }\n",
              "\n",
              "    .dataframe tbody tr th {\n",
              "        vertical-align: top;\n",
              "    }\n",
              "\n",
              "    .dataframe thead th {\n",
              "        text-align: right;\n",
              "    }\n",
              "</style>\n",
              "<table border=\"1\" class=\"dataframe\">\n",
              "  <thead>\n",
              "    <tr style=\"text-align: right;\">\n",
              "      <th></th>\n",
              "      <th>Text Data</th>\n",
              "      <th>Number Of Sentences</th>\n",
              "      <th>Number Of Words</th>\n",
              "      <th>Number of Characters</th>\n",
              "      <th>Average word length</th>\n",
              "      <th>stopwords</th>\n",
              "      <th>Special characters</th>\n",
              "      <th>Removal of Stop words</th>\n",
              "      <th>Rare words removal</th>\n",
              "      <th>Frequent words removal</th>\n",
              "      <th>Punctuations</th>\n",
              "      <th>Spelling Correction</th>\n",
              "      <th>tokenization</th>\n",
              "      <th>stemming</th>\n",
              "      <th>Lemmitization</th>\n",
              "      <th>numerics</th>\n",
              "      <th>uppercase</th>\n",
              "    </tr>\n",
              "  </thead>\n",
              "  <tbody>\n",
              "    <tr>\n",
              "      <th>0</th>\n",
              "      <td>5 ala. 740</td>\n",
              "      <td>2</td>\n",
              "      <td>3</td>\n",
              "      <td>10</td>\n",
              "      <td>2.666667</td>\n",
              "      <td>0</td>\n",
              "      <td>3</td>\n",
              "      <td>5 Ala. 740</td>\n",
              "      <td>5 Ala. 740</td>\n",
              "      <td>5 Ala. 740</td>\n",
              "      <td>1</td>\n",
              "      <td>5 La. 740</td>\n",
              "      <td>[5, La, 740]</td>\n",
              "      <td>5 ala. 740</td>\n",
              "      <td>5 Ala. 740</td>\n",
              "      <td>2</td>\n",
              "      <td>0</td>\n",
              "    </tr>\n",
              "    <tr>\n",
              "      <th>1</th>\n",
              "      <td>supreme court alabama.</td>\n",
              "      <td>2</td>\n",
              "      <td>4</td>\n",
              "      <td>25</td>\n",
              "      <td>5.500000</td>\n",
              "      <td>1</td>\n",
              "      <td>4</td>\n",
              "      <td>Supreme Court Alabama.</td>\n",
              "      <td>Supreme Court Alabama.</td>\n",
              "      <td>Supreme Court Alabama.</td>\n",
              "      <td>1</td>\n",
              "      <td>Supreme Court Alabama.</td>\n",
              "      <td>[Supreme, Court, Alabama]</td>\n",
              "      <td>suprem court alabama.</td>\n",
              "      <td>Supreme Court Alabama.</td>\n",
              "      <td>0</td>\n",
              "      <td>0</td>\n",
              "    </tr>\n",
              "    <tr>\n",
              "      <th>2</th>\n",
              "      <td>adams</td>\n",
              "      <td>1</td>\n",
              "      <td>1</td>\n",
              "      <td>5</td>\n",
              "      <td>5.000000</td>\n",
              "      <td>0</td>\n",
              "      <td>0</td>\n",
              "      <td>ADAMS</td>\n",
              "      <td>ADAMS</td>\n",
              "      <td>ADAMS</td>\n",
              "      <td>0</td>\n",
              "      <td>ADAMS</td>\n",
              "      <td>[ADAMS]</td>\n",
              "      <td>adam</td>\n",
              "      <td>ADAMS</td>\n",
              "      <td>0</td>\n",
              "      <td>1</td>\n",
              "    </tr>\n",
              "    <tr>\n",
              "      <th>3</th>\n",
              "      <td>v.</td>\n",
              "      <td>2</td>\n",
              "      <td>1</td>\n",
              "      <td>2</td>\n",
              "      <td>2.000000</td>\n",
              "      <td>0</td>\n",
              "      <td>1</td>\n",
              "      <td>v.</td>\n",
              "      <td>v.</td>\n",
              "      <td></td>\n",
              "      <td>1</td>\n",
              "      <td>v.</td>\n",
              "      <td>[v]</td>\n",
              "      <td>v.</td>\n",
              "      <td>v.</td>\n",
              "      <td>0</td>\n",
              "      <td>0</td>\n",
              "    </tr>\n",
              "    <tr>\n",
              "      <th>4</th>\n",
              "      <td>tanner and horton.</td>\n",
              "      <td>2</td>\n",
              "      <td>3</td>\n",
              "      <td>18</td>\n",
              "      <td>5.333333</td>\n",
              "      <td>0</td>\n",
              "      <td>3</td>\n",
              "      <td>TANNER AND HORTON.</td>\n",
              "      <td>TANNER AND HORTON.</td>\n",
              "      <td>TANNER AND HORTON.</td>\n",
              "      <td>1</td>\n",
              "      <td>TANNER AND HORTON.</td>\n",
              "      <td>[TANNER, AND, HORTON]</td>\n",
              "      <td>tanner and horton.</td>\n",
              "      <td>TANNER AND HORTON.</td>\n",
              "      <td>0</td>\n",
              "      <td>3</td>\n",
              "    </tr>\n",
              "    <tr>\n",
              "      <th>...</th>\n",
              "      <td>...</td>\n",
              "      <td>...</td>\n",
              "      <td>...</td>\n",
              "      <td>...</td>\n",
              "      <td>...</td>\n",
              "      <td>...</td>\n",
              "      <td>...</td>\n",
              "      <td>...</td>\n",
              "      <td>...</td>\n",
              "      <td>...</td>\n",
              "      <td>...</td>\n",
              "      <td>...</td>\n",
              "      <td>...</td>\n",
              "      <td>...</td>\n",
              "      <td>...</td>\n",
              "      <td>...</td>\n",
              "      <td>...</td>\n",
              "    </tr>\n",
              "    <tr>\n",
              "      <th>143</th>\n",
              "      <td>there filings citation.</td>\n",
              "      <td>2</td>\n",
              "      <td>7</td>\n",
              "      <td>39</td>\n",
              "      <td>4.714286</td>\n",
              "      <td>4</td>\n",
              "      <td>7</td>\n",
              "      <td>There Filings citation.</td>\n",
              "      <td>There Filings citation.</td>\n",
              "      <td>There Filings citation.</td>\n",
              "      <td>1</td>\n",
              "      <td>There Tidings situation.</td>\n",
              "      <td>[There, Tidings, situation]</td>\n",
              "      <td>NaN</td>\n",
              "      <td>There Filings citation.</td>\n",
              "      <td>0</td>\n",
              "      <td>0</td>\n",
              "    </tr>\n",
              "    <tr>\n",
              "      <th>144</th>\n",
              "      <td>negative treatment</td>\n",
              "      <td>1</td>\n",
              "      <td>2</td>\n",
              "      <td>18</td>\n",
              "      <td>8.500000</td>\n",
              "      <td>0</td>\n",
              "      <td>1</td>\n",
              "      <td>Negative Treatment</td>\n",
              "      <td>Negative Treatment</td>\n",
              "      <td>Negative Treatment</td>\n",
              "      <td>0</td>\n",
              "      <td>Negative Treatment</td>\n",
              "      <td>[Negative, Treatment]</td>\n",
              "      <td>NaN</td>\n",
              "      <td>Negative Treatment</td>\n",
              "      <td>0</td>\n",
              "      <td>0</td>\n",
              "    </tr>\n",
              "    <tr>\n",
              "      <th>145</th>\n",
              "      <td>there negative treatment results citation.</td>\n",
              "      <td>2</td>\n",
              "      <td>9</td>\n",
              "      <td>58</td>\n",
              "      <td>5.555556</td>\n",
              "      <td>4</td>\n",
              "      <td>9</td>\n",
              "      <td>There Negative Treatment results citation.</td>\n",
              "      <td>There Negative Treatment results citation.</td>\n",
              "      <td>There Negative Treatment results citation.</td>\n",
              "      <td>1</td>\n",
              "      <td>There Negative Treatment results situation.</td>\n",
              "      <td>[There, Negative, Treatment, results, situation]</td>\n",
              "      <td>NaN</td>\n",
              "      <td>There Negative Treatment result citation.</td>\n",
              "      <td>0</td>\n",
              "      <td>0</td>\n",
              "    </tr>\n",
              "    <tr>\n",
              "      <th>146</th>\n",
              "      <td>history</td>\n",
              "      <td>1</td>\n",
              "      <td>1</td>\n",
              "      <td>7</td>\n",
              "      <td>7.000000</td>\n",
              "      <td>0</td>\n",
              "      <td>0</td>\n",
              "      <td>History</td>\n",
              "      <td>History</td>\n",
              "      <td>History</td>\n",
              "      <td>0</td>\n",
              "      <td>History</td>\n",
              "      <td>[History]</td>\n",
              "      <td>NaN</td>\n",
              "      <td>History</td>\n",
              "      <td>0</td>\n",
              "      <td>0</td>\n",
              "    </tr>\n",
              "    <tr>\n",
              "      <th>147</th>\n",
              "      <td>there history results citation.</td>\n",
              "      <td>2</td>\n",
              "      <td>8</td>\n",
              "      <td>47</td>\n",
              "      <td>5.000000</td>\n",
              "      <td>4</td>\n",
              "      <td>8</td>\n",
              "      <td>There History results citation.</td>\n",
              "      <td>There History results citation.</td>\n",
              "      <td>There History results citation.</td>\n",
              "      <td>1</td>\n",
              "      <td>There History results situation.</td>\n",
              "      <td>[There, History, results, situation]</td>\n",
              "      <td>NaN</td>\n",
              "      <td>There History result citation.</td>\n",
              "      <td>0</td>\n",
              "      <td>0</td>\n",
              "    </tr>\n",
              "  </tbody>\n",
              "</table>\n",
              "<p>148 rows × 17 columns</p>\n",
              "</div>"
            ],
            "text/plain": [
              "                                      Text Data  ...  uppercase\n",
              "0                                    5 ala. 740  ...          0\n",
              "1                        supreme court alabama.  ...          0\n",
              "2                                         adams  ...          1\n",
              "3                                            v.  ...          0\n",
              "4                            tanner and horton.  ...          3\n",
              "..                                          ...  ...        ...\n",
              "143                     there filings citation.  ...          0\n",
              "144                          negative treatment  ...          0\n",
              "145  there negative treatment results citation.  ...          0\n",
              "146                                     history  ...          0\n",
              "147             there history results citation.  ...          0\n",
              "\n",
              "[148 rows x 17 columns]"
            ]
          },
          "metadata": {
            "tags": []
          },
          "execution_count": 95
        }
      ]
    },
    {
      "cell_type": "markdown",
      "metadata": {
        "id": "BBiC4E_kefvV"
      },
      "source": [
        "# 2. Python Regular Expression"
      ]
    },
    {
      "cell_type": "markdown",
      "metadata": {
        "id": "Z1QJ-UwCenvN"
      },
      "source": [
        "## 2.1 Write a Python program to remove leading zeros from an IP address. (4 points)\n",
        "\n",
        "ip = \"260.08.094.109\""
      ]
    },
    {
      "cell_type": "code",
      "metadata": {
        "colab": {
          "base_uri": "https://localhost:8080/"
        },
        "id": "wSv6fVhOfFmv",
        "outputId": "827f0c53-4e9c-4af5-d2cf-51c84b1ad57d"
      },
      "source": [
        "# Write your code here\n",
        "\n",
        "import re\n",
        "ip = \"260.08.094.109\"\n",
        "a=ip.split('.')\n",
        "new_ip=\"\"\n",
        "for i in a:\n",
        "    b = i.lstrip('0')\n",
        "    if new_ip is \"\":\n",
        "        new_ip=b\n",
        "    else:\n",
        "        new_ip=new_ip+\".\"+b\n",
        "print(new_ip)"
      ],
      "execution_count": 96,
      "outputs": [
        {
          "output_type": "stream",
          "text": [
            "260.8.94.109\n"
          ],
          "name": "stdout"
        }
      ]
    },
    {
      "cell_type": "markdown",
      "metadata": {
        "id": "PXRjaHzrfKAy"
      },
      "source": [
        "## 2.2 Write a Python Program to extract all the years from the following sentence. (4 points)\n",
        "\n",
        "sentence = \"The 2010s were a dramatic decade, filled with ups and downs, more than 1000 stroies have happened. As the decade comes to a close, Insider took a look back at some of the biggest headline-grabbing stories, from 2010 to 2019. The result was 119 news stories that ranged from the heartwarming rescue of a Thai boys' soccer team from a flooded cave to the divisive election of President Donald Trump.\""
      ]
    },
    {
      "cell_type": "code",
      "metadata": {
        "colab": {
          "base_uri": "https://localhost:8080/"
        },
        "id": "7xdJpDx9gjbX",
        "outputId": "53335faf-3f2a-47c2-bc19-b0678d8eea8d"
      },
      "source": [
        "# Write your code here\r\n",
        "\r\n",
        "\r\n",
        "\r\n",
        "import re\r\n",
        "\r\n",
        "sentence = \"The 2010s were a dramatic decade, filled with ups and downs, more than 1000 stroies have happened.As the decade comes to a close, Insider took a look back at some of the biggest headline-grabbing stories, from 2010 to 2019.The result was 119 news stories that ranged from the heartwarming rescue of a Thai boys' soccer team from a flooded cave to the divisive election of President Donald Trump.\"\r\n",
        "\r\n",
        "#Check if the string starts with \"The\":\r\n",
        "\r\n",
        "x = re.findall(r'2\\d\\d\\d', sentence)\r\n",
        "\r\n",
        "print(x)\r\n",
        "\r\n"
      ],
      "execution_count": 97,
      "outputs": [
        {
          "output_type": "stream",
          "text": [
            "['2010', '2010', '2019']\n"
          ],
          "name": "stdout"
        }
      ]
    }
  ]
}